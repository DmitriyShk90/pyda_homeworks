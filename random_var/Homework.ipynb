{
 "cells": [
  {
   "cell_type": "markdown",
   "metadata": {},
   "source": [
    "Домашнее задание к лекции «Случайные события. Случайные величины»"
   ]
  },
  {
   "cell_type": "markdown",
   "metadata": {},
   "source": [
    "Смоделировать игру против лотерейного автомата типа “777”. Игрок платит 1 руб., после чего выпадает случайное целое число, равномерно распределенное от 0 до 999. При некоторых значениях числа игрок получает выигрыш (см. справа)\n",
    "\n",
    "Выгодна ли игра игроку?\n",
    "\n",
    "Сколько в среднем приобретает\n",
    "или теряет игрок за одну игру?\n",
    "\n",
    "777: 200 руб.\n",
    "999: 100 руб.\n",
    "555: 50 руб.\n",
    "333: 15 руб.\n",
    "111: 10 руб.\n",
    "*77: 5 руб.\n",
    "**7: 3 руб.\n",
    "*00: 2 руб.\n",
    "**0: 1 руб.\n",
    "\n",
    "– любая цифра"
   ]
  },
  {
   "cell_type": "code",
   "execution_count": 14,
   "metadata": {},
   "outputs": [],
   "source": [
    "import numpy as np"
   ]
  },
  {
   "cell_type": "code",
   "execution_count": 33,
   "metadata": {},
   "outputs": [],
   "source": [
    "trials = 1000000"
   ]
  },
  {
   "cell_type": "code",
   "execution_count": 34,
   "metadata": {},
   "outputs": [],
   "source": [
    "profit = 0"
   ]
  },
  {
   "cell_type": "code",
   "execution_count": 35,
   "metadata": {},
   "outputs": [],
   "source": [
    "successes = 0"
   ]
  },
  {
   "cell_type": "code",
   "execution_count": 36,
   "metadata": {},
   "outputs": [
    {
     "name": "stdout",
     "output_type": "stream",
     "text": [
      "Количество выигрышных попыток: 203643\n",
      "Выигрыш составил: 798317 руб.\n"
     ]
    }
   ],
   "source": [
    "for x in range(trials):\n",
    "    x = np.random.randint(0, 1000)    \n",
    "    if x == 777:\n",
    "        successes += 1\n",
    "        profit += 200\n",
    "    elif x == 999:\n",
    "        successes += 1\n",
    "        profit += 100\n",
    "    elif x == 555:\n",
    "        successes += 1\n",
    "        profit += 50\n",
    "    elif x == 333:\n",
    "        successes += 1\n",
    "        profit += 15\n",
    "    elif x == 111:\n",
    "        successes += 1\n",
    "        profit += 10\n",
    "    elif x % 100 == 77:\n",
    "        successes += 1\n",
    "        profit += 5\n",
    "    elif x % 10 == 7:\n",
    "        successes += 1\n",
    "        profit += 3\n",
    "    elif x % 100 == 0:\n",
    "        successes += 1\n",
    "        profit += 2\n",
    "    elif x % 10 == 0:\n",
    "        successes += 1\n",
    "        profit += 1\n",
    "print(f'Количество выигрышных попыток: {successes}')\n",
    "print(f'Выигрыш составил: {profit} руб.')      \n",
    " \n",
    "       \n",
    "\n",
    "        \n",
    "    "
   ]
  },
  {
   "cell_type": "code",
   "execution_count": 38,
   "metadata": {},
   "outputs": [
    {
     "data": {
      "text/plain": [
       "0.798317"
      ]
     },
     "execution_count": 38,
     "metadata": {},
     "output_type": "execute_result"
    }
   ],
   "source": [
    "#Средний выигрыш игрока за игру\n",
    "profit/trials"
   ]
  },
  {
   "cell_type": "code",
   "execution_count": 39,
   "metadata": {},
   "outputs": [
    {
     "data": {
      "text/plain": [
       "0.20168299999999995"
      ]
     },
     "execution_count": 39,
     "metadata": {},
     "output_type": "execute_result"
    }
   ],
   "source": [
    "#Баланс игрока за одну попытку:\n",
    "1 - profit/trials"
   ]
  },
  {
   "cell_type": "markdown",
   "metadata": {},
   "source": [
    "Игра невыгодна для игрока. Было потрачено всего 1 миллион рублей, выигрыш составил 798317 рублей. В среднем за одну игру игрок теряет около 20 копеек."
   ]
  }
 ],
 "metadata": {
  "kernelspec": {
   "display_name": "Python 3",
   "language": "python",
   "name": "python3"
  },
  "language_info": {
   "codemirror_mode": {
    "name": "ipython",
    "version": 3
   },
   "file_extension": ".py",
   "mimetype": "text/x-python",
   "name": "python",
   "nbconvert_exporter": "python",
   "pygments_lexer": "ipython3",
   "version": "3.8.5"
  }
 },
 "nbformat": 4,
 "nbformat_minor": 4
}
