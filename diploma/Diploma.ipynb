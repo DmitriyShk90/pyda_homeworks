{
 "cells": [
  {
   "cell_type": "markdown",
   "metadata": {},
   "source": [
    "Итоговая работа"
   ]
  },
  {
   "cell_type": "markdown",
   "metadata": {},
   "source": [
    "Датасет содержит информацию о продажах британского онлайн магазина в период с 1 декабря 2010 по 9 декабря 2011. Продажи осуществляются в нескольких странах. Компания в основном продает уникальные подарки на все случаи жизни. Многие клиенты компании являются оптовиками."
   ]
  },
  {
   "cell_type": "markdown",
   "metadata": {},
   "source": [
    "1. Получение данных\n"
   ]
  },
  {
   "cell_type": "code",
   "execution_count": 1,
   "metadata": {},
   "outputs": [],
   "source": [
    "#Импортируем необходимые библиотеки\n",
    "import pandas as pd\n",
    "import matplotlib.pyplot as plt\n",
    "from datetime import datetime as dt"
   ]
  },
  {
   "cell_type": "code",
   "execution_count": 101,
   "metadata": {},
   "outputs": [],
   "source": [
    "import seaborn as sns"
   ]
  },
  {
   "cell_type": "code",
   "execution_count": 25,
   "metadata": {},
   "outputs": [],
   "source": [
    "#Увеличим размер графиков\n",
    "from pylab import rcParams\n",
    "rcParams['figure.figsize'] = 12,5"
   ]
  },
  {
   "cell_type": "code",
   "execution_count": 166,
   "metadata": {},
   "outputs": [],
   "source": [
    "#Загружаем данные из файла\n",
    "df = pd.read_csv('data.csv', encoding = 'windows-1252')"
   ]
  },
  {
   "cell_type": "code",
   "execution_count": 167,
   "metadata": {},
   "outputs": [
    {
     "data": {
      "text/html": [
       "<div>\n",
       "<style scoped>\n",
       "    .dataframe tbody tr th:only-of-type {\n",
       "        vertical-align: middle;\n",
       "    }\n",
       "\n",
       "    .dataframe tbody tr th {\n",
       "        vertical-align: top;\n",
       "    }\n",
       "\n",
       "    .dataframe thead th {\n",
       "        text-align: right;\n",
       "    }\n",
       "</style>\n",
       "<table border=\"1\" class=\"dataframe\">\n",
       "  <thead>\n",
       "    <tr style=\"text-align: right;\">\n",
       "      <th></th>\n",
       "      <th>InvoiceNo</th>\n",
       "      <th>StockCode</th>\n",
       "      <th>Description</th>\n",
       "      <th>Quantity</th>\n",
       "      <th>InvoiceDate</th>\n",
       "      <th>UnitPrice</th>\n",
       "      <th>CustomerID</th>\n",
       "      <th>Country</th>\n",
       "    </tr>\n",
       "  </thead>\n",
       "  <tbody>\n",
       "    <tr>\n",
       "      <th>0</th>\n",
       "      <td>536365</td>\n",
       "      <td>85123A</td>\n",
       "      <td>WHITE HANGING HEART T-LIGHT HOLDER</td>\n",
       "      <td>6</td>\n",
       "      <td>12/1/2010 8:26</td>\n",
       "      <td>2.55</td>\n",
       "      <td>17850.0</td>\n",
       "      <td>United Kingdom</td>\n",
       "    </tr>\n",
       "    <tr>\n",
       "      <th>1</th>\n",
       "      <td>536365</td>\n",
       "      <td>71053</td>\n",
       "      <td>WHITE METAL LANTERN</td>\n",
       "      <td>6</td>\n",
       "      <td>12/1/2010 8:26</td>\n",
       "      <td>3.39</td>\n",
       "      <td>17850.0</td>\n",
       "      <td>United Kingdom</td>\n",
       "    </tr>\n",
       "    <tr>\n",
       "      <th>2</th>\n",
       "      <td>536365</td>\n",
       "      <td>84406B</td>\n",
       "      <td>CREAM CUPID HEARTS COAT HANGER</td>\n",
       "      <td>8</td>\n",
       "      <td>12/1/2010 8:26</td>\n",
       "      <td>2.75</td>\n",
       "      <td>17850.0</td>\n",
       "      <td>United Kingdom</td>\n",
       "    </tr>\n",
       "    <tr>\n",
       "      <th>3</th>\n",
       "      <td>536365</td>\n",
       "      <td>84029G</td>\n",
       "      <td>KNITTED UNION FLAG HOT WATER BOTTLE</td>\n",
       "      <td>6</td>\n",
       "      <td>12/1/2010 8:26</td>\n",
       "      <td>3.39</td>\n",
       "      <td>17850.0</td>\n",
       "      <td>United Kingdom</td>\n",
       "    </tr>\n",
       "    <tr>\n",
       "      <th>4</th>\n",
       "      <td>536365</td>\n",
       "      <td>84029E</td>\n",
       "      <td>RED WOOLLY HOTTIE WHITE HEART.</td>\n",
       "      <td>6</td>\n",
       "      <td>12/1/2010 8:26</td>\n",
       "      <td>3.39</td>\n",
       "      <td>17850.0</td>\n",
       "      <td>United Kingdom</td>\n",
       "    </tr>\n",
       "  </tbody>\n",
       "</table>\n",
       "</div>"
      ],
      "text/plain": [
       "  InvoiceNo StockCode                          Description  Quantity  \\\n",
       "0    536365    85123A   WHITE HANGING HEART T-LIGHT HOLDER         6   \n",
       "1    536365     71053                  WHITE METAL LANTERN         6   \n",
       "2    536365    84406B       CREAM CUPID HEARTS COAT HANGER         8   \n",
       "3    536365    84029G  KNITTED UNION FLAG HOT WATER BOTTLE         6   \n",
       "4    536365    84029E       RED WOOLLY HOTTIE WHITE HEART.         6   \n",
       "\n",
       "      InvoiceDate  UnitPrice  CustomerID         Country  \n",
       "0  12/1/2010 8:26       2.55     17850.0  United Kingdom  \n",
       "1  12/1/2010 8:26       3.39     17850.0  United Kingdom  \n",
       "2  12/1/2010 8:26       2.75     17850.0  United Kingdom  \n",
       "3  12/1/2010 8:26       3.39     17850.0  United Kingdom  \n",
       "4  12/1/2010 8:26       3.39     17850.0  United Kingdom  "
      ]
     },
     "execution_count": 167,
     "metadata": {},
     "output_type": "execute_result"
    }
   ],
   "source": [
    "#Посмотрим первые 5 строк нашего датафрейма\n",
    "df.head()"
   ]
  },
  {
   "cell_type": "markdown",
   "metadata": {},
   "source": [
    "Датафрейм состоит из 8 столбцов:\n",
    "1. InvoiceNo - Номер счета-фактуры. 6-значный номер, присвоенный каждой транзакции. Если этот код начинается с буквы \"с\", это означает возврат.\n",
    "2. StockCode - Код товара. 5-значный номер, присвоенный каждому отдельному продукту.\n",
    "3. Description - Название продукта (товара).\n",
    "4. Quantity - Количество каждого продукта (товара) на транзакцию.\n",
    "5. InvoiceDate - Дата и время совершения покупки.\n",
    "6. UnitPrice - Цена продукта за единицу в фунтах стерлингов.\n",
    "7. CustomerID - Уникальный номер, присвоенный каждому клиенту.\n",
    "8. Country - Страна покупки."
   ]
  },
  {
   "cell_type": "markdown",
   "metadata": {},
   "source": [
    "2. Обработка и чистка данных"
   ]
  },
  {
   "cell_type": "code",
   "execution_count": 168,
   "metadata": {},
   "outputs": [
    {
     "name": "stdout",
     "output_type": "stream",
     "text": [
      "<class 'pandas.core.frame.DataFrame'>\n",
      "RangeIndex: 541909 entries, 0 to 541908\n",
      "Data columns (total 8 columns):\n",
      " #   Column       Non-Null Count   Dtype  \n",
      "---  ------       --------------   -----  \n",
      " 0   InvoiceNo    541909 non-null  object \n",
      " 1   StockCode    541909 non-null  object \n",
      " 2   Description  540455 non-null  object \n",
      " 3   Quantity     541909 non-null  int64  \n",
      " 4   InvoiceDate  541909 non-null  object \n",
      " 5   UnitPrice    541909 non-null  float64\n",
      " 6   CustomerID   406829 non-null  float64\n",
      " 7   Country      541909 non-null  object \n",
      "dtypes: float64(2), int64(1), object(5)\n",
      "memory usage: 33.1+ MB\n"
     ]
    }
   ],
   "source": [
    "#Выведем информацию о нашем датафрейме\n",
    "df.info()"
   ]
  },
  {
   "cell_type": "code",
   "execution_count": 169,
   "metadata": {},
   "outputs": [
    {
     "data": {
      "text/plain": [
       "InvoiceNo       0.00\n",
       "StockCode       0.00\n",
       "Description     0.27\n",
       "Quantity        0.00\n",
       "InvoiceDate     0.00\n",
       "UnitPrice       0.00\n",
       "CustomerID     24.93\n",
       "Country         0.00\n",
       "dtype: float64"
      ]
     },
     "execution_count": 169,
     "metadata": {},
     "output_type": "execute_result"
    }
   ],
   "source": [
    "#Смотрим сколько пропусков есть в данных\n",
    "(df.isna().mean()*100).round(2)"
   ]
  },
  {
   "cell_type": "markdown",
   "metadata": {},
   "source": [
    "При анализе количества null значений в датафрейме, обращает на себя внимание тот факт, что около 25% записей не привязаны к конкретному клиенту. С имеющимися данными невозможно установить ID клиента или подставить отсутствующие значения. Поэтому было принято решение удалить их из датафрейма."
   ]
  },
  {
   "cell_type": "code",
   "execution_count": 170,
   "metadata": {},
   "outputs": [],
   "source": [
    "#Удалим строки, в которых есть пропуски данных\n",
    "df = df.dropna()"
   ]
  },
  {
   "cell_type": "code",
   "execution_count": 171,
   "metadata": {},
   "outputs": [
    {
     "name": "stdout",
     "output_type": "stream",
     "text": [
      "<class 'pandas.core.frame.DataFrame'>\n",
      "Int64Index: 406829 entries, 0 to 541908\n",
      "Data columns (total 8 columns):\n",
      " #   Column       Non-Null Count   Dtype  \n",
      "---  ------       --------------   -----  \n",
      " 0   InvoiceNo    406829 non-null  object \n",
      " 1   StockCode    406829 non-null  object \n",
      " 2   Description  406829 non-null  object \n",
      " 3   Quantity     406829 non-null  int64  \n",
      " 4   InvoiceDate  406829 non-null  object \n",
      " 5   UnitPrice    406829 non-null  float64\n",
      " 6   CustomerID   406829 non-null  float64\n",
      " 7   Country      406829 non-null  object \n",
      "dtypes: float64(2), int64(1), object(5)\n",
      "memory usage: 27.9+ MB\n"
     ]
    }
   ],
   "source": [
    "df.info()"
   ]
  },
  {
   "cell_type": "code",
   "execution_count": 172,
   "metadata": {},
   "outputs": [
    {
     "name": "stdout",
     "output_type": "stream",
     "text": [
      "<class 'pandas.core.frame.DataFrame'>\n",
      "Int64Index: 401604 entries, 0 to 541908\n",
      "Data columns (total 8 columns):\n",
      " #   Column       Non-Null Count   Dtype  \n",
      "---  ------       --------------   -----  \n",
      " 0   InvoiceNo    401604 non-null  object \n",
      " 1   StockCode    401604 non-null  object \n",
      " 2   Description  401604 non-null  object \n",
      " 3   Quantity     401604 non-null  int64  \n",
      " 4   InvoiceDate  401604 non-null  object \n",
      " 5   UnitPrice    401604 non-null  float64\n",
      " 6   CustomerID   401604 non-null  float64\n",
      " 7   Country      401604 non-null  object \n",
      "dtypes: float64(2), int64(1), object(5)\n",
      "memory usage: 27.6+ MB\n"
     ]
    }
   ],
   "source": [
    "#Удалим полностью повторяющиеся записи в данных\n",
    "df = df.drop_duplicates()\n",
    "df.info()"
   ]
  },
  {
   "cell_type": "code",
   "execution_count": 173,
   "metadata": {},
   "outputs": [],
   "source": [
    "#Приведем столбец CustomerID к типу данных Int64, так как float64 здесь не нужен и только замедлит вычисления      \n",
    "df['CustomerID'] = df['CustomerID'].astype('Int64')"
   ]
  },
  {
   "cell_type": "code",
   "execution_count": 174,
   "metadata": {},
   "outputs": [
    {
     "data": {
      "text/html": [
       "<div>\n",
       "<style scoped>\n",
       "    .dataframe tbody tr th:only-of-type {\n",
       "        vertical-align: middle;\n",
       "    }\n",
       "\n",
       "    .dataframe tbody tr th {\n",
       "        vertical-align: top;\n",
       "    }\n",
       "\n",
       "    .dataframe thead th {\n",
       "        text-align: right;\n",
       "    }\n",
       "</style>\n",
       "<table border=\"1\" class=\"dataframe\">\n",
       "  <thead>\n",
       "    <tr style=\"text-align: right;\">\n",
       "      <th></th>\n",
       "      <th>Quantity</th>\n",
       "      <th>UnitPrice</th>\n",
       "      <th>CustomerID</th>\n",
       "    </tr>\n",
       "  </thead>\n",
       "  <tbody>\n",
       "    <tr>\n",
       "      <th>count</th>\n",
       "      <td>401604.000000</td>\n",
       "      <td>401604.000000</td>\n",
       "      <td>401604.000000</td>\n",
       "    </tr>\n",
       "    <tr>\n",
       "      <th>mean</th>\n",
       "      <td>12.183273</td>\n",
       "      <td>3.474064</td>\n",
       "      <td>15281.160818</td>\n",
       "    </tr>\n",
       "    <tr>\n",
       "      <th>std</th>\n",
       "      <td>250.283037</td>\n",
       "      <td>69.764035</td>\n",
       "      <td>1714.006089</td>\n",
       "    </tr>\n",
       "    <tr>\n",
       "      <th>min</th>\n",
       "      <td>-80995.000000</td>\n",
       "      <td>0.000000</td>\n",
       "      <td>12346.000000</td>\n",
       "    </tr>\n",
       "    <tr>\n",
       "      <th>25%</th>\n",
       "      <td>2.000000</td>\n",
       "      <td>1.250000</td>\n",
       "      <td>13939.000000</td>\n",
       "    </tr>\n",
       "    <tr>\n",
       "      <th>50%</th>\n",
       "      <td>5.000000</td>\n",
       "      <td>1.950000</td>\n",
       "      <td>15145.000000</td>\n",
       "    </tr>\n",
       "    <tr>\n",
       "      <th>75%</th>\n",
       "      <td>12.000000</td>\n",
       "      <td>3.750000</td>\n",
       "      <td>16784.000000</td>\n",
       "    </tr>\n",
       "    <tr>\n",
       "      <th>max</th>\n",
       "      <td>80995.000000</td>\n",
       "      <td>38970.000000</td>\n",
       "      <td>18287.000000</td>\n",
       "    </tr>\n",
       "  </tbody>\n",
       "</table>\n",
       "</div>"
      ],
      "text/plain": [
       "            Quantity      UnitPrice     CustomerID\n",
       "count  401604.000000  401604.000000  401604.000000\n",
       "mean       12.183273       3.474064   15281.160818\n",
       "std       250.283037      69.764035    1714.006089\n",
       "min    -80995.000000       0.000000   12346.000000\n",
       "25%         2.000000       1.250000   13939.000000\n",
       "50%         5.000000       1.950000   15145.000000\n",
       "75%        12.000000       3.750000   16784.000000\n",
       "max     80995.000000   38970.000000   18287.000000"
      ]
     },
     "execution_count": 174,
     "metadata": {},
     "output_type": "execute_result"
    }
   ],
   "source": [
    "#Выведем статистическую информацию о нашем датасете\n",
    "df.describe()"
   ]
  },
  {
   "cell_type": "markdown",
   "metadata": {},
   "source": [
    "3. Анализ данных"
   ]
  },
  {
   "cell_type": "code",
   "execution_count": 175,
   "metadata": {},
   "outputs": [
    {
     "name": "stdout",
     "output_type": "stream",
     "text": [
      "Количество уникальных товаров: 3896\n"
     ]
    }
   ],
   "source": [
    "#Посчитаем количество уникальных товаров:\n",
    "print('Количество уникальных товаров:',len(df['Description'].unique()))"
   ]
  },
  {
   "cell_type": "code",
   "execution_count": 176,
   "metadata": {
    "scrolled": true
   },
   "outputs": [
    {
     "data": {
      "text/html": [
       "<div>\n",
       "<style scoped>\n",
       "    .dataframe tbody tr th:only-of-type {\n",
       "        vertical-align: middle;\n",
       "    }\n",
       "\n",
       "    .dataframe tbody tr th {\n",
       "        vertical-align: top;\n",
       "    }\n",
       "\n",
       "    .dataframe thead th {\n",
       "        text-align: right;\n",
       "    }\n",
       "</style>\n",
       "<table border=\"1\" class=\"dataframe\">\n",
       "  <thead>\n",
       "    <tr style=\"text-align: right;\">\n",
       "      <th></th>\n",
       "      <th>InvoiceNo</th>\n",
       "      <th>StockCode</th>\n",
       "      <th>Description</th>\n",
       "      <th>Quantity</th>\n",
       "      <th>InvoiceDate</th>\n",
       "      <th>UnitPrice</th>\n",
       "      <th>CustomerID</th>\n",
       "      <th>Country</th>\n",
       "      <th>TotalSum</th>\n",
       "    </tr>\n",
       "  </thead>\n",
       "  <tbody>\n",
       "    <tr>\n",
       "      <th>0</th>\n",
       "      <td>536365</td>\n",
       "      <td>85123A</td>\n",
       "      <td>WHITE HANGING HEART T-LIGHT HOLDER</td>\n",
       "      <td>6</td>\n",
       "      <td>12/1/2010 8:26</td>\n",
       "      <td>2.55</td>\n",
       "      <td>17850</td>\n",
       "      <td>United Kingdom</td>\n",
       "      <td>15.30</td>\n",
       "    </tr>\n",
       "    <tr>\n",
       "      <th>1</th>\n",
       "      <td>536365</td>\n",
       "      <td>71053</td>\n",
       "      <td>WHITE METAL LANTERN</td>\n",
       "      <td>6</td>\n",
       "      <td>12/1/2010 8:26</td>\n",
       "      <td>3.39</td>\n",
       "      <td>17850</td>\n",
       "      <td>United Kingdom</td>\n",
       "      <td>20.34</td>\n",
       "    </tr>\n",
       "    <tr>\n",
       "      <th>2</th>\n",
       "      <td>536365</td>\n",
       "      <td>84406B</td>\n",
       "      <td>CREAM CUPID HEARTS COAT HANGER</td>\n",
       "      <td>8</td>\n",
       "      <td>12/1/2010 8:26</td>\n",
       "      <td>2.75</td>\n",
       "      <td>17850</td>\n",
       "      <td>United Kingdom</td>\n",
       "      <td>22.00</td>\n",
       "    </tr>\n",
       "    <tr>\n",
       "      <th>3</th>\n",
       "      <td>536365</td>\n",
       "      <td>84029G</td>\n",
       "      <td>KNITTED UNION FLAG HOT WATER BOTTLE</td>\n",
       "      <td>6</td>\n",
       "      <td>12/1/2010 8:26</td>\n",
       "      <td>3.39</td>\n",
       "      <td>17850</td>\n",
       "      <td>United Kingdom</td>\n",
       "      <td>20.34</td>\n",
       "    </tr>\n",
       "    <tr>\n",
       "      <th>4</th>\n",
       "      <td>536365</td>\n",
       "      <td>84029E</td>\n",
       "      <td>RED WOOLLY HOTTIE WHITE HEART.</td>\n",
       "      <td>6</td>\n",
       "      <td>12/1/2010 8:26</td>\n",
       "      <td>3.39</td>\n",
       "      <td>17850</td>\n",
       "      <td>United Kingdom</td>\n",
       "      <td>20.34</td>\n",
       "    </tr>\n",
       "    <tr>\n",
       "      <th>5</th>\n",
       "      <td>536365</td>\n",
       "      <td>22752</td>\n",
       "      <td>SET 7 BABUSHKA NESTING BOXES</td>\n",
       "      <td>2</td>\n",
       "      <td>12/1/2010 8:26</td>\n",
       "      <td>7.65</td>\n",
       "      <td>17850</td>\n",
       "      <td>United Kingdom</td>\n",
       "      <td>15.30</td>\n",
       "    </tr>\n",
       "    <tr>\n",
       "      <th>6</th>\n",
       "      <td>536365</td>\n",
       "      <td>21730</td>\n",
       "      <td>GLASS STAR FROSTED T-LIGHT HOLDER</td>\n",
       "      <td>6</td>\n",
       "      <td>12/1/2010 8:26</td>\n",
       "      <td>4.25</td>\n",
       "      <td>17850</td>\n",
       "      <td>United Kingdom</td>\n",
       "      <td>25.50</td>\n",
       "    </tr>\n",
       "    <tr>\n",
       "      <th>7</th>\n",
       "      <td>536366</td>\n",
       "      <td>22633</td>\n",
       "      <td>HAND WARMER UNION JACK</td>\n",
       "      <td>6</td>\n",
       "      <td>12/1/2010 8:28</td>\n",
       "      <td>1.85</td>\n",
       "      <td>17850</td>\n",
       "      <td>United Kingdom</td>\n",
       "      <td>11.10</td>\n",
       "    </tr>\n",
       "    <tr>\n",
       "      <th>8</th>\n",
       "      <td>536366</td>\n",
       "      <td>22632</td>\n",
       "      <td>HAND WARMER RED POLKA DOT</td>\n",
       "      <td>6</td>\n",
       "      <td>12/1/2010 8:28</td>\n",
       "      <td>1.85</td>\n",
       "      <td>17850</td>\n",
       "      <td>United Kingdom</td>\n",
       "      <td>11.10</td>\n",
       "    </tr>\n",
       "    <tr>\n",
       "      <th>9</th>\n",
       "      <td>536367</td>\n",
       "      <td>84879</td>\n",
       "      <td>ASSORTED COLOUR BIRD ORNAMENT</td>\n",
       "      <td>32</td>\n",
       "      <td>12/1/2010 8:34</td>\n",
       "      <td>1.69</td>\n",
       "      <td>13047</td>\n",
       "      <td>United Kingdom</td>\n",
       "      <td>54.08</td>\n",
       "    </tr>\n",
       "  </tbody>\n",
       "</table>\n",
       "</div>"
      ],
      "text/plain": [
       "  InvoiceNo StockCode                          Description  Quantity  \\\n",
       "0    536365    85123A   WHITE HANGING HEART T-LIGHT HOLDER         6   \n",
       "1    536365     71053                  WHITE METAL LANTERN         6   \n",
       "2    536365    84406B       CREAM CUPID HEARTS COAT HANGER         8   \n",
       "3    536365    84029G  KNITTED UNION FLAG HOT WATER BOTTLE         6   \n",
       "4    536365    84029E       RED WOOLLY HOTTIE WHITE HEART.         6   \n",
       "5    536365     22752         SET 7 BABUSHKA NESTING BOXES         2   \n",
       "6    536365     21730    GLASS STAR FROSTED T-LIGHT HOLDER         6   \n",
       "7    536366     22633               HAND WARMER UNION JACK         6   \n",
       "8    536366     22632            HAND WARMER RED POLKA DOT         6   \n",
       "9    536367     84879        ASSORTED COLOUR BIRD ORNAMENT        32   \n",
       "\n",
       "      InvoiceDate  UnitPrice  CustomerID         Country  TotalSum  \n",
       "0  12/1/2010 8:26       2.55       17850  United Kingdom     15.30  \n",
       "1  12/1/2010 8:26       3.39       17850  United Kingdom     20.34  \n",
       "2  12/1/2010 8:26       2.75       17850  United Kingdom     22.00  \n",
       "3  12/1/2010 8:26       3.39       17850  United Kingdom     20.34  \n",
       "4  12/1/2010 8:26       3.39       17850  United Kingdom     20.34  \n",
       "5  12/1/2010 8:26       7.65       17850  United Kingdom     15.30  \n",
       "6  12/1/2010 8:26       4.25       17850  United Kingdom     25.50  \n",
       "7  12/1/2010 8:28       1.85       17850  United Kingdom     11.10  \n",
       "8  12/1/2010 8:28       1.85       17850  United Kingdom     11.10  \n",
       "9  12/1/2010 8:34       1.69       13047  United Kingdom     54.08  "
      ]
     },
     "execution_count": 176,
     "metadata": {},
     "output_type": "execute_result"
    }
   ],
   "source": [
    "#Создадим столбец TotalSum в котором подсчитаем сумму, уплаченную за каждый товар\n",
    "df['TotalSum'] = df['Quantity']*df['UnitPrice']\n",
    "df.head(10)"
   ]
  },
  {
   "cell_type": "code",
   "execution_count": 177,
   "metadata": {},
   "outputs": [
    {
     "name": "stdout",
     "output_type": "stream",
     "text": [
      "WHITE HANGING HEART T-LIGHT HOLDER    2058\n",
      "REGENCY CAKESTAND 3 TIER              1894\n",
      "JUMBO BAG RED RETROSPOT               1659\n",
      "PARTY BUNTING                         1409\n",
      "ASSORTED COLOUR BIRD ORNAMENT         1405\n",
      "LUNCH BAG RED RETROSPOT               1345\n",
      "SET OF 3 CAKE TINS PANTRY DESIGN      1224\n",
      "POSTAGE                               1196\n",
      "LUNCH BAG  BLACK SKULL.               1099\n",
      "PACK OF 72 RETROSPOT CAKE CASES       1062\n",
      "Name: Description, dtype: int64\n"
     ]
    }
   ],
   "source": [
    "#Посмотрим, какие товары клиенты покупали больше всего и построим визуализацию\n",
    "items = df['Description'].value_counts().head(10)\n",
    "print(items)"
   ]
  },
  {
   "cell_type": "code",
   "execution_count": 178,
   "metadata": {},
   "outputs": [
    {
     "data": {
      "text/plain": [
       "Text(0, 0.5, 'Пролажи, штук')"
      ]
     },
     "execution_count": 178,
     "metadata": {},
     "output_type": "execute_result"
    },
    {
     "data": {
      "image/png": "[encoded data removed]",
      "text/plain": [
       "<Figure size 864x360 with 1 Axes>"
      ]
     },
     "metadata": {
      "needs_background": "light"
     },
     "output_type": "display_data"
    }
   ],
   "source": [
    "df['Description'].value_counts().head(30).plot(kind = 'bar')\n",
    "plt.title('Наиболее продаваемые товары')\n",
    "plt.xlabel('Название товара')\n",
    "plt.ylabel('Пролажи, штук')"
   ]
  },
  {
   "cell_type": "code",
   "execution_count": 179,
   "metadata": {},
   "outputs": [
    {
     "data": {
      "text/plain": [
       "Description\n",
       "REGENCY CAKESTAND 3 TIER              132567.70\n",
       "WHITE HANGING HEART T-LIGHT HOLDER     93767.80\n",
       "JUMBO BAG RED RETROSPOT                83056.52\n",
       "PARTY BUNTING                          67628.43\n",
       "POSTAGE                                66710.24\n",
       "ASSORTED COLOUR BIRD ORNAMENT          56331.91\n",
       "RABBIT NIGHT LIGHT                     51042.84\n",
       "CHILLI LIGHTS                          45915.41\n",
       "PAPER CHAIN KIT 50'S CHRISTMAS         41423.78\n",
       "PICNIC BASKET WICKER 60 PIECES         39619.50\n",
       "Name: TotalSum, dtype: float64"
      ]
     },
     "execution_count": 179,
     "metadata": {},
     "output_type": "execute_result"
    }
   ],
   "source": [
    "#Посмотрим, какие товары принесли нам наибольшую выручку\n",
    "df.groupby(['Description']).sum('TotalSum').sort_values('TotalSum', ascending = False)['TotalSum'].head(10)"
   ]
  },
  {
   "cell_type": "code",
   "execution_count": 180,
   "metadata": {},
   "outputs": [
    {
     "data": {
      "text/plain": [
       "Text(0, 0.5, 'Пролажи, в фунтах стерлингов')"
      ]
     },
     "execution_count": 180,
     "metadata": {},
     "output_type": "execute_result"
    },
    {
     "data": {
      "image/png": "[encoded data removed]",
      "text/plain": [
       "<Figure size 864x360 with 1 Axes>"
      ]
     },
     "metadata": {
      "needs_background": "light"
     },
     "output_type": "display_data"
    }
   ],
   "source": [
    "df.groupby(['Description']).sum('TotalSum').sort_values('TotalSum', ascending = False)['TotalSum'].head(10).plot(kind = 'bar')\n",
    "plt.title('Топ-10 товаров по выручке')\n",
    "plt.xlabel('Название товара')\n",
    "plt.ylabel('Пролажи, в фунтах стерлингов')"
   ]
  },
  {
   "cell_type": "code",
   "execution_count": 181,
   "metadata": {},
   "outputs": [
    {
     "data": {
      "text/html": [
       "<div>\n",
       "<style scoped>\n",
       "    .dataframe tbody tr th:only-of-type {\n",
       "        vertical-align: middle;\n",
       "    }\n",
       "\n",
       "    .dataframe tbody tr th {\n",
       "        vertical-align: top;\n",
       "    }\n",
       "\n",
       "    .dataframe thead th {\n",
       "        text-align: right;\n",
       "    }\n",
       "</style>\n",
       "<table border=\"1\" class=\"dataframe\">\n",
       "  <thead>\n",
       "    <tr style=\"text-align: right;\">\n",
       "      <th></th>\n",
       "      <th>Description</th>\n",
       "      <th>InvoiceNo</th>\n",
       "      <th>Penetration</th>\n",
       "    </tr>\n",
       "  </thead>\n",
       "  <tbody>\n",
       "    <tr>\n",
       "      <th>3716</th>\n",
       "      <td>WHITE HANGING HEART T-LIGHT HOLDER</td>\n",
       "      <td>2058</td>\n",
       "      <td>9.274448</td>\n",
       "    </tr>\n",
       "    <tr>\n",
       "      <th>2780</th>\n",
       "      <td>REGENCY CAKESTAND 3 TIER</td>\n",
       "      <td>1894</td>\n",
       "      <td>8.535376</td>\n",
       "    </tr>\n",
       "    <tr>\n",
       "      <th>1771</th>\n",
       "      <td>JUMBO BAG RED RETROSPOT</td>\n",
       "      <td>1659</td>\n",
       "      <td>7.476341</td>\n",
       "    </tr>\n",
       "    <tr>\n",
       "      <th>2355</th>\n",
       "      <td>PARTY BUNTING</td>\n",
       "      <td>1409</td>\n",
       "      <td>6.349707</td>\n",
       "    </tr>\n",
       "    <tr>\n",
       "      <th>217</th>\n",
       "      <td>ASSORTED COLOUR BIRD ORNAMENT</td>\n",
       "      <td>1405</td>\n",
       "      <td>6.331681</td>\n",
       "    </tr>\n",
       "    <tr>\n",
       "      <th>1953</th>\n",
       "      <td>LUNCH BAG RED RETROSPOT</td>\n",
       "      <td>1345</td>\n",
       "      <td>6.061289</td>\n",
       "    </tr>\n",
       "    <tr>\n",
       "      <th>3014</th>\n",
       "      <td>SET OF 3 CAKE TINS PANTRY DESIGN</td>\n",
       "      <td>1224</td>\n",
       "      <td>5.515998</td>\n",
       "    </tr>\n",
       "    <tr>\n",
       "      <th>2624</th>\n",
       "      <td>POSTAGE</td>\n",
       "      <td>1196</td>\n",
       "      <td>5.389815</td>\n",
       "    </tr>\n",
       "    <tr>\n",
       "      <th>1945</th>\n",
       "      <td>LUNCH BAG  BLACK SKULL.</td>\n",
       "      <td>1099</td>\n",
       "      <td>4.952681</td>\n",
       "    </tr>\n",
       "    <tr>\n",
       "      <th>2279</th>\n",
       "      <td>PACK OF 72 RETROSPOT CAKE CASES</td>\n",
       "      <td>1062</td>\n",
       "      <td>4.785940</td>\n",
       "    </tr>\n",
       "  </tbody>\n",
       "</table>\n",
       "</div>"
      ],
      "text/plain": [
       "                             Description  InvoiceNo  Penetration\n",
       "3716  WHITE HANGING HEART T-LIGHT HOLDER       2058     9.274448\n",
       "2780            REGENCY CAKESTAND 3 TIER       1894     8.535376\n",
       "1771             JUMBO BAG RED RETROSPOT       1659     7.476341\n",
       "2355                       PARTY BUNTING       1409     6.349707\n",
       "217        ASSORTED COLOUR BIRD ORNAMENT       1405     6.331681\n",
       "1953             LUNCH BAG RED RETROSPOT       1345     6.061289\n",
       "3014   SET OF 3 CAKE TINS PANTRY DESIGN        1224     5.515998\n",
       "2624                             POSTAGE       1196     5.389815\n",
       "1945             LUNCH BAG  BLACK SKULL.       1099     4.952681\n",
       "2279     PACK OF 72 RETROSPOT CAKE CASES       1062     4.785940"
      ]
     },
     "execution_count": 181,
     "metadata": {},
     "output_type": "execute_result"
    }
   ],
   "source": [
    "#Посчитаем показатель пенетрации - частоты появления в чеке того или иного наименования\n",
    "penetration = df.groupby('Description').count().reset_index()[['Description','InvoiceNo']]\n",
    "penetration['Penetration'] = (penetration['InvoiceNo']/len(df['InvoiceNo'].unique()))*100\n",
    "penetration.sort_values('Penetration', ascending = False).head(10)"
   ]
  },
  {
   "cell_type": "code",
   "execution_count": 182,
   "metadata": {},
   "outputs": [
    {
     "data": {
      "text/plain": [
       "CustomerID\n",
       "14646    279489.02\n",
       "18102    256438.49\n",
       "17450    187322.17\n",
       "14911    132458.73\n",
       "12415    123725.45\n",
       "14156    113214.59\n",
       "17511     88125.38\n",
       "16684     65892.08\n",
       "13694     62690.54\n",
       "15311     59284.19\n",
       "Name: TotalSum, dtype: float64"
      ]
     },
     "execution_count": 182,
     "metadata": {},
     "output_type": "execute_result"
    }
   ],
   "source": [
    "#Далее можно найти посетителей, которые принесли нам наибольшую выручку\n",
    "df.groupby(['CustomerID']).sum().sort_values('TotalSum', ascending = False)['TotalSum'].head(10)"
   ]
  },
  {
   "cell_type": "code",
   "execution_count": 183,
   "metadata": {},
   "outputs": [
    {
     "data": {
      "text/plain": [
       "<AxesSubplot:>"
      ]
     },
     "execution_count": 183,
     "metadata": {},
     "output_type": "execute_result"
    },
    {
     "data": {
      "image/png": "[encoded data removed]",
      "text/plain": [
       "<Figure size 864x360 with 1 Axes>"
      ]
     },
     "metadata": {
      "needs_background": "light"
     },
     "output_type": "display_data"
    }
   ],
   "source": [
    "#Посмотрим распределение количества заказов по странам\n",
    "df['Country'].value_counts(normalize = True).head(10).plot(kind='bar')"
   ]
  },
  {
   "cell_type": "markdown",
   "metadata": {},
   "source": [
    "Данная стобчатая диаграмма показывает, что подавляющее большинство заказов было сделано в Великобритании."
   ]
  },
  {
   "cell_type": "code",
   "execution_count": 184,
   "metadata": {},
   "outputs": [],
   "source": [
    "#Приведем столбец InvoiceDate к формату Дата\n",
    "df['InvoiceDate'] = pd.to_datetime(df['InvoiceDate'])"
   ]
  },
  {
   "cell_type": "code",
   "execution_count": 185,
   "metadata": {},
   "outputs": [
    {
     "data": {
      "text/html": [
       "<div>\n",
       "<style scoped>\n",
       "    .dataframe tbody tr th:only-of-type {\n",
       "        vertical-align: middle;\n",
       "    }\n",
       "\n",
       "    .dataframe tbody tr th {\n",
       "        vertical-align: top;\n",
       "    }\n",
       "\n",
       "    .dataframe thead th {\n",
       "        text-align: right;\n",
       "    }\n",
       "</style>\n",
       "<table border=\"1\" class=\"dataframe\">\n",
       "  <thead>\n",
       "    <tr style=\"text-align: right;\">\n",
       "      <th></th>\n",
       "      <th>InvoiceNo</th>\n",
       "      <th>StockCode</th>\n",
       "      <th>Description</th>\n",
       "      <th>Quantity</th>\n",
       "      <th>InvoiceDate</th>\n",
       "      <th>UnitPrice</th>\n",
       "      <th>CustomerID</th>\n",
       "      <th>Country</th>\n",
       "      <th>TotalSum</th>\n",
       "      <th>Month_Year</th>\n",
       "    </tr>\n",
       "  </thead>\n",
       "  <tbody>\n",
       "    <tr>\n",
       "      <th>0</th>\n",
       "      <td>536365</td>\n",
       "      <td>85123A</td>\n",
       "      <td>WHITE HANGING HEART T-LIGHT HOLDER</td>\n",
       "      <td>6</td>\n",
       "      <td>2010-12-01 08:26:00</td>\n",
       "      <td>2.55</td>\n",
       "      <td>17850</td>\n",
       "      <td>United Kingdom</td>\n",
       "      <td>15.30</td>\n",
       "      <td>2010-12</td>\n",
       "    </tr>\n",
       "    <tr>\n",
       "      <th>1</th>\n",
       "      <td>536365</td>\n",
       "      <td>71053</td>\n",
       "      <td>WHITE METAL LANTERN</td>\n",
       "      <td>6</td>\n",
       "      <td>2010-12-01 08:26:00</td>\n",
       "      <td>3.39</td>\n",
       "      <td>17850</td>\n",
       "      <td>United Kingdom</td>\n",
       "      <td>20.34</td>\n",
       "      <td>2010-12</td>\n",
       "    </tr>\n",
       "    <tr>\n",
       "      <th>2</th>\n",
       "      <td>536365</td>\n",
       "      <td>84406B</td>\n",
       "      <td>CREAM CUPID HEARTS COAT HANGER</td>\n",
       "      <td>8</td>\n",
       "      <td>2010-12-01 08:26:00</td>\n",
       "      <td>2.75</td>\n",
       "      <td>17850</td>\n",
       "      <td>United Kingdom</td>\n",
       "      <td>22.00</td>\n",
       "      <td>2010-12</td>\n",
       "    </tr>\n",
       "    <tr>\n",
       "      <th>3</th>\n",
       "      <td>536365</td>\n",
       "      <td>84029G</td>\n",
       "      <td>KNITTED UNION FLAG HOT WATER BOTTLE</td>\n",
       "      <td>6</td>\n",
       "      <td>2010-12-01 08:26:00</td>\n",
       "      <td>3.39</td>\n",
       "      <td>17850</td>\n",
       "      <td>United Kingdom</td>\n",
       "      <td>20.34</td>\n",
       "      <td>2010-12</td>\n",
       "    </tr>\n",
       "    <tr>\n",
       "      <th>4</th>\n",
       "      <td>536365</td>\n",
       "      <td>84029E</td>\n",
       "      <td>RED WOOLLY HOTTIE WHITE HEART.</td>\n",
       "      <td>6</td>\n",
       "      <td>2010-12-01 08:26:00</td>\n",
       "      <td>3.39</td>\n",
       "      <td>17850</td>\n",
       "      <td>United Kingdom</td>\n",
       "      <td>20.34</td>\n",
       "      <td>2010-12</td>\n",
       "    </tr>\n",
       "    <tr>\n",
       "      <th>...</th>\n",
       "      <td>...</td>\n",
       "      <td>...</td>\n",
       "      <td>...</td>\n",
       "      <td>...</td>\n",
       "      <td>...</td>\n",
       "      <td>...</td>\n",
       "      <td>...</td>\n",
       "      <td>...</td>\n",
       "      <td>...</td>\n",
       "      <td>...</td>\n",
       "    </tr>\n",
       "    <tr>\n",
       "      <th>541904</th>\n",
       "      <td>581587</td>\n",
       "      <td>22613</td>\n",
       "      <td>PACK OF 20 SPACEBOY NAPKINS</td>\n",
       "      <td>12</td>\n",
       "      <td>2011-12-09 12:50:00</td>\n",
       "      <td>0.85</td>\n",
       "      <td>12680</td>\n",
       "      <td>France</td>\n",
       "      <td>10.20</td>\n",
       "      <td>2011-12</td>\n",
       "    </tr>\n",
       "    <tr>\n",
       "      <th>541905</th>\n",
       "      <td>581587</td>\n",
       "      <td>22899</td>\n",
       "      <td>CHILDREN'S APRON DOLLY GIRL</td>\n",
       "      <td>6</td>\n",
       "      <td>2011-12-09 12:50:00</td>\n",
       "      <td>2.10</td>\n",
       "      <td>12680</td>\n",
       "      <td>France</td>\n",
       "      <td>12.60</td>\n",
       "      <td>2011-12</td>\n",
       "    </tr>\n",
       "    <tr>\n",
       "      <th>541906</th>\n",
       "      <td>581587</td>\n",
       "      <td>23254</td>\n",
       "      <td>CHILDRENS CUTLERY DOLLY GIRL</td>\n",
       "      <td>4</td>\n",
       "      <td>2011-12-09 12:50:00</td>\n",
       "      <td>4.15</td>\n",
       "      <td>12680</td>\n",
       "      <td>France</td>\n",
       "      <td>16.60</td>\n",
       "      <td>2011-12</td>\n",
       "    </tr>\n",
       "    <tr>\n",
       "      <th>541907</th>\n",
       "      <td>581587</td>\n",
       "      <td>23255</td>\n",
       "      <td>CHILDRENS CUTLERY CIRCUS PARADE</td>\n",
       "      <td>4</td>\n",
       "      <td>2011-12-09 12:50:00</td>\n",
       "      <td>4.15</td>\n",
       "      <td>12680</td>\n",
       "      <td>France</td>\n",
       "      <td>16.60</td>\n",
       "      <td>2011-12</td>\n",
       "    </tr>\n",
       "    <tr>\n",
       "      <th>541908</th>\n",
       "      <td>581587</td>\n",
       "      <td>22138</td>\n",
       "      <td>BAKING SET 9 PIECE RETROSPOT</td>\n",
       "      <td>3</td>\n",
       "      <td>2011-12-09 12:50:00</td>\n",
       "      <td>4.95</td>\n",
       "      <td>12680</td>\n",
       "      <td>France</td>\n",
       "      <td>14.85</td>\n",
       "      <td>2011-12</td>\n",
       "    </tr>\n",
       "  </tbody>\n",
       "</table>\n",
       "<p>401604 rows × 10 columns</p>\n",
       "</div>"
      ],
      "text/plain": [
       "       InvoiceNo StockCode                          Description  Quantity  \\\n",
       "0         536365    85123A   WHITE HANGING HEART T-LIGHT HOLDER         6   \n",
       "1         536365     71053                  WHITE METAL LANTERN         6   \n",
       "2         536365    84406B       CREAM CUPID HEARTS COAT HANGER         8   \n",
       "3         536365    84029G  KNITTED UNION FLAG HOT WATER BOTTLE         6   \n",
       "4         536365    84029E       RED WOOLLY HOTTIE WHITE HEART.         6   \n",
       "...          ...       ...                                  ...       ...   \n",
       "541904    581587     22613          PACK OF 20 SPACEBOY NAPKINS        12   \n",
       "541905    581587     22899         CHILDREN'S APRON DOLLY GIRL          6   \n",
       "541906    581587     23254        CHILDRENS CUTLERY DOLLY GIRL          4   \n",
       "541907    581587     23255      CHILDRENS CUTLERY CIRCUS PARADE         4   \n",
       "541908    581587     22138        BAKING SET 9 PIECE RETROSPOT          3   \n",
       "\n",
       "               InvoiceDate  UnitPrice  CustomerID         Country  TotalSum  \\\n",
       "0      2010-12-01 08:26:00       2.55       17850  United Kingdom     15.30   \n",
       "1      2010-12-01 08:26:00       3.39       17850  United Kingdom     20.34   \n",
       "2      2010-12-01 08:26:00       2.75       17850  United Kingdom     22.00   \n",
       "3      2010-12-01 08:26:00       3.39       17850  United Kingdom     20.34   \n",
       "4      2010-12-01 08:26:00       3.39       17850  United Kingdom     20.34   \n",
       "...                    ...        ...         ...             ...       ...   \n",
       "541904 2011-12-09 12:50:00       0.85       12680          France     10.20   \n",
       "541905 2011-12-09 12:50:00       2.10       12680          France     12.60   \n",
       "541906 2011-12-09 12:50:00       4.15       12680          France     16.60   \n",
       "541907 2011-12-09 12:50:00       4.15       12680          France     16.60   \n",
       "541908 2011-12-09 12:50:00       4.95       12680          France     14.85   \n",
       "\n",
       "       Month_Year  \n",
       "0         2010-12  \n",
       "1         2010-12  \n",
       "2         2010-12  \n",
       "3         2010-12  \n",
       "4         2010-12  \n",
       "...           ...  \n",
       "541904    2011-12  \n",
       "541905    2011-12  \n",
       "541906    2011-12  \n",
       "541907    2011-12  \n",
       "541908    2011-12  \n",
       "\n",
       "[401604 rows x 10 columns]"
      ]
     },
     "execution_count": 185,
     "metadata": {},
     "output_type": "execute_result"
    }
   ],
   "source": [
    "#Создадим столбец Month_Year, в котором отобразим информацию только о месяце и годе покупки. \n",
    "#Данный столбец понадобится нам для дальнейшей группировки  \n",
    "df['Month_Year'] = df['InvoiceDate'].dt.to_period('M')\n",
    "df"
   ]
  },
  {
   "cell_type": "code",
   "execution_count": 186,
   "metadata": {},
   "outputs": [
    {
     "data": {
      "text/html": [
       "<div>\n",
       "<style scoped>\n",
       "    .dataframe tbody tr th:only-of-type {\n",
       "        vertical-align: middle;\n",
       "    }\n",
       "\n",
       "    .dataframe tbody tr th {\n",
       "        vertical-align: top;\n",
       "    }\n",
       "\n",
       "    .dataframe thead th {\n",
       "        text-align: right;\n",
       "    }\n",
       "</style>\n",
       "<table border=\"1\" class=\"dataframe\">\n",
       "  <thead>\n",
       "    <tr style=\"text-align: right;\">\n",
       "      <th></th>\n",
       "      <th>Month_Year</th>\n",
       "      <th>Quantity_of_losses</th>\n",
       "      <th>Sum_of_losses</th>\n",
       "    </tr>\n",
       "  </thead>\n",
       "  <tbody>\n",
       "    <tr>\n",
       "      <th>0</th>\n",
       "      <td>2010-12</td>\n",
       "      <td>-15886</td>\n",
       "      <td>-18049.87</td>\n",
       "    </tr>\n",
       "    <tr>\n",
       "      <th>1</th>\n",
       "      <td>2011-01</td>\n",
       "      <td>-79767</td>\n",
       "      <td>-94369.41</td>\n",
       "    </tr>\n",
       "    <tr>\n",
       "      <th>2</th>\n",
       "      <td>2011-02</td>\n",
       "      <td>-2800</td>\n",
       "      <td>-10550.85</td>\n",
       "    </tr>\n",
       "    <tr>\n",
       "      <th>3</th>\n",
       "      <td>2011-03</td>\n",
       "      <td>-4528</td>\n",
       "      <td>-15505.55</td>\n",
       "    </tr>\n",
       "    <tr>\n",
       "      <th>4</th>\n",
       "      <td>2011-04</td>\n",
       "      <td>-13639</td>\n",
       "      <td>-43151.66</td>\n",
       "    </tr>\n",
       "    <tr>\n",
       "      <th>5</th>\n",
       "      <td>2011-05</td>\n",
       "      <td>-5833</td>\n",
       "      <td>-30343.48</td>\n",
       "    </tr>\n",
       "    <tr>\n",
       "      <th>6</th>\n",
       "      <td>2011-06</td>\n",
       "      <td>-6775</td>\n",
       "      <td>-53183.53</td>\n",
       "    </tr>\n",
       "    <tr>\n",
       "      <th>7</th>\n",
       "      <td>2011-07</td>\n",
       "      <td>-6013</td>\n",
       "      <td>-25850.58</td>\n",
       "    </tr>\n",
       "    <tr>\n",
       "      <th>8</th>\n",
       "      <td>2011-08</td>\n",
       "      <td>-12325</td>\n",
       "      <td>-28972.95</td>\n",
       "    </tr>\n",
       "    <tr>\n",
       "      <th>9</th>\n",
       "      <td>2011-09</td>\n",
       "      <td>-7304</td>\n",
       "      <td>-21333.97</td>\n",
       "    </tr>\n",
       "    <tr>\n",
       "      <th>10</th>\n",
       "      <td>2011-10</td>\n",
       "      <td>-22653</td>\n",
       "      <td>-62336.07</td>\n",
       "    </tr>\n",
       "    <tr>\n",
       "      <th>11</th>\n",
       "      <td>2011-11</td>\n",
       "      <td>-11947</td>\n",
       "      <td>-29390.54</td>\n",
       "    </tr>\n",
       "    <tr>\n",
       "      <th>12</th>\n",
       "      <td>2011-12</td>\n",
       "      <td>-83565</td>\n",
       "      <td>-175651.01</td>\n",
       "    </tr>\n",
       "  </tbody>\n",
       "</table>\n",
       "</div>"
      ],
      "text/plain": [
       "   Month_Year  Quantity_of_losses  Sum_of_losses\n",
       "0     2010-12              -15886      -18049.87\n",
       "1     2011-01              -79767      -94369.41\n",
       "2     2011-02               -2800      -10550.85\n",
       "3     2011-03               -4528      -15505.55\n",
       "4     2011-04              -13639      -43151.66\n",
       "5     2011-05               -5833      -30343.48\n",
       "6     2011-06               -6775      -53183.53\n",
       "7     2011-07               -6013      -25850.58\n",
       "8     2011-08              -12325      -28972.95\n",
       "9     2011-09               -7304      -21333.97\n",
       "10    2011-10              -22653      -62336.07\n",
       "11    2011-11              -11947      -29390.54\n",
       "12    2011-12              -83565     -175651.01"
      ]
     },
     "execution_count": 186,
     "metadata": {},
     "output_type": "execute_result"
    }
   ],
   "source": [
    "#Рассчитаем сумму и количество возвратов для каждого месяца\n",
    "monthly_returns = df[df['Quantity']<0][['Month_Year','Quantity','TotalSum']]\n",
    "monthly_returns = monthly_returns.groupby('Month_Year').sum().reset_index().rename(columns={'Quantity': 'Quantity_of_losses', 'TotalSum': 'Sum_of_losses'})\n",
    "monthly_returns"
   ]
  },
  {
   "cell_type": "code",
   "execution_count": 187,
   "metadata": {},
   "outputs": [
    {
     "data": {
      "text/html": [
       "<div>\n",
       "<style scoped>\n",
       "    .dataframe tbody tr th:only-of-type {\n",
       "        vertical-align: middle;\n",
       "    }\n",
       "\n",
       "    .dataframe tbody tr th {\n",
       "        vertical-align: top;\n",
       "    }\n",
       "\n",
       "    .dataframe thead th {\n",
       "        text-align: right;\n",
       "    }\n",
       "</style>\n",
       "<table border=\"1\" class=\"dataframe\">\n",
       "  <thead>\n",
       "    <tr style=\"text-align: right;\">\n",
       "      <th></th>\n",
       "      <th>Month_Year</th>\n",
       "      <th>Quantity</th>\n",
       "      <th>TotalSum</th>\n",
       "    </tr>\n",
       "  </thead>\n",
       "  <tbody>\n",
       "    <tr>\n",
       "      <th>0</th>\n",
       "      <td>2010-12</td>\n",
       "      <td>311063</td>\n",
       "      <td>570422.730</td>\n",
       "    </tr>\n",
       "    <tr>\n",
       "      <th>1</th>\n",
       "      <td>2011-01</td>\n",
       "      <td>348522</td>\n",
       "      <td>568101.310</td>\n",
       "    </tr>\n",
       "    <tr>\n",
       "      <th>2</th>\n",
       "      <td>2011-02</td>\n",
       "      <td>265043</td>\n",
       "      <td>446084.920</td>\n",
       "    </tr>\n",
       "    <tr>\n",
       "      <th>3</th>\n",
       "      <td>2011-03</td>\n",
       "      <td>347623</td>\n",
       "      <td>594081.760</td>\n",
       "    </tr>\n",
       "    <tr>\n",
       "      <th>4</th>\n",
       "      <td>2011-04</td>\n",
       "      <td>291369</td>\n",
       "      <td>468374.331</td>\n",
       "    </tr>\n",
       "    <tr>\n",
       "      <th>5</th>\n",
       "      <td>2011-05</td>\n",
       "      <td>372948</td>\n",
       "      <td>677355.150</td>\n",
       "    </tr>\n",
       "    <tr>\n",
       "      <th>6</th>\n",
       "      <td>2011-06</td>\n",
       "      <td>363014</td>\n",
       "      <td>660046.050</td>\n",
       "    </tr>\n",
       "    <tr>\n",
       "      <th>7</th>\n",
       "      <td>2011-07</td>\n",
       "      <td>367372</td>\n",
       "      <td>598962.901</td>\n",
       "    </tr>\n",
       "    <tr>\n",
       "      <th>8</th>\n",
       "      <td>2011-08</td>\n",
       "      <td>398190</td>\n",
       "      <td>644051.040</td>\n",
       "    </tr>\n",
       "    <tr>\n",
       "      <th>9</th>\n",
       "      <td>2011-09</td>\n",
       "      <td>543654</td>\n",
       "      <td>950690.202</td>\n",
       "    </tr>\n",
       "    <tr>\n",
       "      <th>10</th>\n",
       "      <td>2011-10</td>\n",
       "      <td>591551</td>\n",
       "      <td>1035642.450</td>\n",
       "    </tr>\n",
       "    <tr>\n",
       "      <th>11</th>\n",
       "      <td>2011-11</td>\n",
       "      <td>678760</td>\n",
       "      <td>1156205.610</td>\n",
       "    </tr>\n",
       "    <tr>\n",
       "      <th>12</th>\n",
       "      <td>2011-12</td>\n",
       "      <td>286777</td>\n",
       "      <td>517190.440</td>\n",
       "    </tr>\n",
       "  </tbody>\n",
       "</table>\n",
       "</div>"
      ],
      "text/plain": [
       "   Month_Year  Quantity     TotalSum\n",
       "0     2010-12    311063   570422.730\n",
       "1     2011-01    348522   568101.310\n",
       "2     2011-02    265043   446084.920\n",
       "3     2011-03    347623   594081.760\n",
       "4     2011-04    291369   468374.331\n",
       "5     2011-05    372948   677355.150\n",
       "6     2011-06    363014   660046.050\n",
       "7     2011-07    367372   598962.901\n",
       "8     2011-08    398190   644051.040\n",
       "9     2011-09    543654   950690.202\n",
       "10    2011-10    591551  1035642.450\n",
       "11    2011-11    678760  1156205.610\n",
       "12    2011-12    286777   517190.440"
      ]
     },
     "execution_count": 187,
     "metadata": {},
     "output_type": "execute_result"
    }
   ],
   "source": [
    "#Посчитаем выручку и количество продаж для каждого месяца\n",
    "monthly_sales = df[df['Quantity']>0][['Month_Year','Quantity','TotalSum']]\n",
    "monthly_sales = monthly_sales.groupby('Month_Year').sum().reset_index()\n",
    "monthly_sales"
   ]
  },
  {
   "cell_type": "code",
   "execution_count": 189,
   "metadata": {},
   "outputs": [],
   "source": [
    "#Сведем все данные о продажах и потерях в одну таблицу\n",
    "profit_and_lost = monthly_sales.merge(monthly_returns, how = 'left', on = 'Month_Year')"
   ]
  },
  {
   "cell_type": "code",
   "execution_count": 190,
   "metadata": {},
   "outputs": [
    {
     "data": {
      "text/html": [
       "<div>\n",
       "<style scoped>\n",
       "    .dataframe tbody tr th:only-of-type {\n",
       "        vertical-align: middle;\n",
       "    }\n",
       "\n",
       "    .dataframe tbody tr th {\n",
       "        vertical-align: top;\n",
       "    }\n",
       "\n",
       "    .dataframe thead th {\n",
       "        text-align: right;\n",
       "    }\n",
       "</style>\n",
       "<table border=\"1\" class=\"dataframe\">\n",
       "  <thead>\n",
       "    <tr style=\"text-align: right;\">\n",
       "      <th></th>\n",
       "      <th>Month_Year</th>\n",
       "      <th>Quantity</th>\n",
       "      <th>TotalSum</th>\n",
       "      <th>Quantity_of_losses</th>\n",
       "      <th>Sum_of_losses</th>\n",
       "      <th>Losses_qty(%)</th>\n",
       "      <th>Losses_sum(%)</th>\n",
       "    </tr>\n",
       "  </thead>\n",
       "  <tbody>\n",
       "    <tr>\n",
       "      <th>0</th>\n",
       "      <td>2010-12</td>\n",
       "      <td>311063</td>\n",
       "      <td>570422.730</td>\n",
       "      <td>-15886</td>\n",
       "      <td>-18049.87</td>\n",
       "      <td>5.107004</td>\n",
       "      <td>3.164297</td>\n",
       "    </tr>\n",
       "    <tr>\n",
       "      <th>1</th>\n",
       "      <td>2011-01</td>\n",
       "      <td>348522</td>\n",
       "      <td>568101.310</td>\n",
       "      <td>-79767</td>\n",
       "      <td>-94369.41</td>\n",
       "      <td>22.887221</td>\n",
       "      <td>16.611370</td>\n",
       "    </tr>\n",
       "    <tr>\n",
       "      <th>2</th>\n",
       "      <td>2011-02</td>\n",
       "      <td>265043</td>\n",
       "      <td>446084.920</td>\n",
       "      <td>-2800</td>\n",
       "      <td>-10550.85</td>\n",
       "      <td>1.056432</td>\n",
       "      <td>2.365211</td>\n",
       "    </tr>\n",
       "    <tr>\n",
       "      <th>3</th>\n",
       "      <td>2011-03</td>\n",
       "      <td>347623</td>\n",
       "      <td>594081.760</td>\n",
       "      <td>-4528</td>\n",
       "      <td>-15505.55</td>\n",
       "      <td>1.302561</td>\n",
       "      <td>2.610003</td>\n",
       "    </tr>\n",
       "    <tr>\n",
       "      <th>4</th>\n",
       "      <td>2011-04</td>\n",
       "      <td>291369</td>\n",
       "      <td>468374.331</td>\n",
       "      <td>-13639</td>\n",
       "      <td>-43151.66</td>\n",
       "      <td>4.681006</td>\n",
       "      <td>9.213071</td>\n",
       "    </tr>\n",
       "    <tr>\n",
       "      <th>5</th>\n",
       "      <td>2011-05</td>\n",
       "      <td>372948</td>\n",
       "      <td>677355.150</td>\n",
       "      <td>-5833</td>\n",
       "      <td>-30343.48</td>\n",
       "      <td>1.564025</td>\n",
       "      <td>4.479700</td>\n",
       "    </tr>\n",
       "    <tr>\n",
       "      <th>6</th>\n",
       "      <td>2011-06</td>\n",
       "      <td>363014</td>\n",
       "      <td>660046.050</td>\n",
       "      <td>-6775</td>\n",
       "      <td>-53183.53</td>\n",
       "      <td>1.866319</td>\n",
       "      <td>8.057548</td>\n",
       "    </tr>\n",
       "    <tr>\n",
       "      <th>7</th>\n",
       "      <td>2011-07</td>\n",
       "      <td>367372</td>\n",
       "      <td>598962.901</td>\n",
       "      <td>-6013</td>\n",
       "      <td>-25850.58</td>\n",
       "      <td>1.636761</td>\n",
       "      <td>4.315890</td>\n",
       "    </tr>\n",
       "    <tr>\n",
       "      <th>8</th>\n",
       "      <td>2011-08</td>\n",
       "      <td>398190</td>\n",
       "      <td>644051.040</td>\n",
       "      <td>-12325</td>\n",
       "      <td>-28972.95</td>\n",
       "      <td>3.095256</td>\n",
       "      <td>4.498549</td>\n",
       "    </tr>\n",
       "    <tr>\n",
       "      <th>9</th>\n",
       "      <td>2011-09</td>\n",
       "      <td>543654</td>\n",
       "      <td>950690.202</td>\n",
       "      <td>-7304</td>\n",
       "      <td>-21333.97</td>\n",
       "      <td>1.343502</td>\n",
       "      <td>2.244051</td>\n",
       "    </tr>\n",
       "    <tr>\n",
       "      <th>10</th>\n",
       "      <td>2011-10</td>\n",
       "      <td>591551</td>\n",
       "      <td>1035642.450</td>\n",
       "      <td>-22653</td>\n",
       "      <td>-62336.07</td>\n",
       "      <td>3.829425</td>\n",
       "      <td>6.019073</td>\n",
       "    </tr>\n",
       "    <tr>\n",
       "      <th>11</th>\n",
       "      <td>2011-11</td>\n",
       "      <td>678760</td>\n",
       "      <td>1156205.610</td>\n",
       "      <td>-11947</td>\n",
       "      <td>-29390.54</td>\n",
       "      <td>1.760121</td>\n",
       "      <td>2.541982</td>\n",
       "    </tr>\n",
       "    <tr>\n",
       "      <th>12</th>\n",
       "      <td>2011-12</td>\n",
       "      <td>286777</td>\n",
       "      <td>517190.440</td>\n",
       "      <td>-83565</td>\n",
       "      <td>-175651.01</td>\n",
       "      <td>29.139366</td>\n",
       "      <td>33.962540</td>\n",
       "    </tr>\n",
       "  </tbody>\n",
       "</table>\n",
       "</div>"
      ],
      "text/plain": [
       "   Month_Year  Quantity     TotalSum  Quantity_of_losses  Sum_of_losses  \\\n",
       "0     2010-12    311063   570422.730              -15886      -18049.87   \n",
       "1     2011-01    348522   568101.310              -79767      -94369.41   \n",
       "2     2011-02    265043   446084.920               -2800      -10550.85   \n",
       "3     2011-03    347623   594081.760               -4528      -15505.55   \n",
       "4     2011-04    291369   468374.331              -13639      -43151.66   \n",
       "5     2011-05    372948   677355.150               -5833      -30343.48   \n",
       "6     2011-06    363014   660046.050               -6775      -53183.53   \n",
       "7     2011-07    367372   598962.901               -6013      -25850.58   \n",
       "8     2011-08    398190   644051.040              -12325      -28972.95   \n",
       "9     2011-09    543654   950690.202               -7304      -21333.97   \n",
       "10    2011-10    591551  1035642.450              -22653      -62336.07   \n",
       "11    2011-11    678760  1156205.610              -11947      -29390.54   \n",
       "12    2011-12    286777   517190.440              -83565     -175651.01   \n",
       "\n",
       "    Losses_qty(%)  Losses_sum(%)  \n",
       "0        5.107004       3.164297  \n",
       "1       22.887221      16.611370  \n",
       "2        1.056432       2.365211  \n",
       "3        1.302561       2.610003  \n",
       "4        4.681006       9.213071  \n",
       "5        1.564025       4.479700  \n",
       "6        1.866319       8.057548  \n",
       "7        1.636761       4.315890  \n",
       "8        3.095256       4.498549  \n",
       "9        1.343502       2.244051  \n",
       "10       3.829425       6.019073  \n",
       "11       1.760121       2.541982  \n",
       "12      29.139366      33.962540  "
      ]
     },
     "execution_count": 190,
     "metadata": {},
     "output_type": "execute_result"
    }
   ],
   "source": [
    "#Рассчитаем процент возврата в штуках и в денежном выражении\n",
    "profit_and_lost['Losses_qty(%)'] = ((profit_and_lost['Quantity_of_losses']*(-1))/profit_and_lost['Quantity'])*100\n",
    "profit_and_lost['Losses_sum(%)'] = ((profit_and_lost['Sum_of_losses']*(-1))/profit_and_lost['TotalSum'])*100\n",
    "profit_and_lost"
   ]
  },
  {
   "cell_type": "markdown",
   "metadata": {},
   "source": [
    "Как видно из приведенной таблицы, объем возвратов в 8 из 13 месяцев не превышает 5%.\n",
    "В апреле и июне % возвратов составляет 9% и 8% соответственно,что уже является довольно большим показателем и может послужить триггером для принятия мероприятий по поиску и устранению причин возвратов.\n",
    "В январе и декабре 2011 года процент возвратов аномально большой - 16% и 33% соответственно, что требует отдельного исследования по поиску причин."
   ]
  },
  {
   "cell_type": "code",
   "execution_count": 191,
   "metadata": {},
   "outputs": [],
   "source": [
    "#Приведем столбец month_year к типу данных \"строка\" для построения визуализации\n",
    "monthly_sales['Month_Year'] = monthly_sales['Month_Year'].astype('str')"
   ]
  },
  {
   "cell_type": "code",
   "execution_count": 192,
   "metadata": {},
   "outputs": [
    {
     "data": {
      "text/plain": [
       "Text(0, 0.5, 'Пролажи, млн.')"
      ]
     },
     "execution_count": 192,
     "metadata": {},
     "output_type": "execute_result"
    },
    {
     "data": {
      "image/png": "[encoded data removed]",
      "text/plain": [
       "<Figure size 864x360 with 1 Axes>"
      ]
     },
     "metadata": {
      "needs_background": "light"
     },
     "output_type": "display_data"
    }
   ],
   "source": [
    "#Построим график суммарных продаж(товарооборота) по месяцам\n",
    "plt.plot(monthly_sales['Month_Year'],monthly_sales['TotalSum'])\n",
    "plt.title('Динамика продаж') \n",
    "plt.xlabel('Год и месяц')\n",
    "plt.ylabel('Пролажи, млн.')"
   ]
  },
  {
   "cell_type": "markdown",
   "metadata": {},
   "source": [
    "Как видно из графика, продажи по году в целом увеличивались и к ноябрю 2011 года достигли максимального значения. В декабре 2011 года продажи упали, это связано с тем, что у нас есть данные по продажам только первых  дней данного месяца."
   ]
  },
  {
   "cell_type": "code",
   "execution_count": 193,
   "metadata": {},
   "outputs": [
    {
     "data": {
      "text/html": [
       "<div>\n",
       "<style scoped>\n",
       "    .dataframe tbody tr th:only-of-type {\n",
       "        vertical-align: middle;\n",
       "    }\n",
       "\n",
       "    .dataframe tbody tr th {\n",
       "        vertical-align: top;\n",
       "    }\n",
       "\n",
       "    .dataframe thead th {\n",
       "        text-align: right;\n",
       "    }\n",
       "</style>\n",
       "<table border=\"1\" class=\"dataframe\">\n",
       "  <thead>\n",
       "    <tr style=\"text-align: right;\">\n",
       "      <th></th>\n",
       "      <th>Month_Year</th>\n",
       "      <th>Quantity</th>\n",
       "      <th>TotalSum</th>\n",
       "      <th>average_check</th>\n",
       "    </tr>\n",
       "  </thead>\n",
       "  <tbody>\n",
       "    <tr>\n",
       "      <th>0</th>\n",
       "      <td>2010-12</td>\n",
       "      <td>311063</td>\n",
       "      <td>570422.730</td>\n",
       "      <td>1.833785</td>\n",
       "    </tr>\n",
       "    <tr>\n",
       "      <th>1</th>\n",
       "      <td>2011-01</td>\n",
       "      <td>348522</td>\n",
       "      <td>568101.310</td>\n",
       "      <td>1.630030</td>\n",
       "    </tr>\n",
       "    <tr>\n",
       "      <th>2</th>\n",
       "      <td>2011-02</td>\n",
       "      <td>265043</td>\n",
       "      <td>446084.920</td>\n",
       "      <td>1.683066</td>\n",
       "    </tr>\n",
       "    <tr>\n",
       "      <th>3</th>\n",
       "      <td>2011-03</td>\n",
       "      <td>347623</td>\n",
       "      <td>594081.760</td>\n",
       "      <td>1.708983</td>\n",
       "    </tr>\n",
       "    <tr>\n",
       "      <th>4</th>\n",
       "      <td>2011-04</td>\n",
       "      <td>291369</td>\n",
       "      <td>468374.331</td>\n",
       "      <td>1.607495</td>\n",
       "    </tr>\n",
       "    <tr>\n",
       "      <th>5</th>\n",
       "      <td>2011-05</td>\n",
       "      <td>372948</td>\n",
       "      <td>677355.150</td>\n",
       "      <td>1.816219</td>\n",
       "    </tr>\n",
       "    <tr>\n",
       "      <th>6</th>\n",
       "      <td>2011-06</td>\n",
       "      <td>363014</td>\n",
       "      <td>660046.050</td>\n",
       "      <td>1.818239</td>\n",
       "    </tr>\n",
       "    <tr>\n",
       "      <th>7</th>\n",
       "      <td>2011-07</td>\n",
       "      <td>367372</td>\n",
       "      <td>598962.901</td>\n",
       "      <td>1.630399</td>\n",
       "    </tr>\n",
       "    <tr>\n",
       "      <th>8</th>\n",
       "      <td>2011-08</td>\n",
       "      <td>398190</td>\n",
       "      <td>644051.040</td>\n",
       "      <td>1.617447</td>\n",
       "    </tr>\n",
       "    <tr>\n",
       "      <th>9</th>\n",
       "      <td>2011-09</td>\n",
       "      <td>543654</td>\n",
       "      <td>950690.202</td>\n",
       "      <td>1.748705</td>\n",
       "    </tr>\n",
       "    <tr>\n",
       "      <th>10</th>\n",
       "      <td>2011-10</td>\n",
       "      <td>591551</td>\n",
       "      <td>1035642.450</td>\n",
       "      <td>1.750724</td>\n",
       "    </tr>\n",
       "    <tr>\n",
       "      <th>11</th>\n",
       "      <td>2011-11</td>\n",
       "      <td>678760</td>\n",
       "      <td>1156205.610</td>\n",
       "      <td>1.703409</td>\n",
       "    </tr>\n",
       "    <tr>\n",
       "      <th>12</th>\n",
       "      <td>2011-12</td>\n",
       "      <td>286777</td>\n",
       "      <td>517190.440</td>\n",
       "      <td>1.803459</td>\n",
       "    </tr>\n",
       "  </tbody>\n",
       "</table>\n",
       "</div>"
      ],
      "text/plain": [
       "   Month_Year  Quantity     TotalSum  average_check\n",
       "0     2010-12    311063   570422.730       1.833785\n",
       "1     2011-01    348522   568101.310       1.630030\n",
       "2     2011-02    265043   446084.920       1.683066\n",
       "3     2011-03    347623   594081.760       1.708983\n",
       "4     2011-04    291369   468374.331       1.607495\n",
       "5     2011-05    372948   677355.150       1.816219\n",
       "6     2011-06    363014   660046.050       1.818239\n",
       "7     2011-07    367372   598962.901       1.630399\n",
       "8     2011-08    398190   644051.040       1.617447\n",
       "9     2011-09    543654   950690.202       1.748705\n",
       "10    2011-10    591551  1035642.450       1.750724\n",
       "11    2011-11    678760  1156205.610       1.703409\n",
       "12    2011-12    286777   517190.440       1.803459"
      ]
     },
     "execution_count": 193,
     "metadata": {},
     "output_type": "execute_result"
    }
   ],
   "source": [
    "#Посмотрим динамику среднего чека по месяцам и построим визуализацию\n",
    "monthly_sales['average_check'] = monthly_sales['TotalSum']/monthly_sales['Quantity']\n",
    "monthly_sales"
   ]
  },
  {
   "cell_type": "code",
   "execution_count": 194,
   "metadata": {},
   "outputs": [
    {
     "data": {
      "text/plain": [
       "Text(0, 0.5, 'Средний чек, у.е.')"
      ]
     },
     "execution_count": 194,
     "metadata": {},
     "output_type": "execute_result"
    },
    {
     "data": {
      "image/png": "[encoded data removed]",
      "text/plain": [
       "<Figure size 864x360 with 1 Axes>"
      ]
     },
     "metadata": {
      "needs_background": "light"
     },
     "output_type": "display_data"
    }
   ],
   "source": [
    "plt.plot(monthly_sales['Month_Year'],monthly_sales['average_check'])\n",
    "plt.title('Динамика среднего чека') \n",
    "plt.xlabel('Год и месяц')\n",
    "plt.ylabel('Средний чек, у.е.')"
   ]
  },
  {
   "cell_type": "code",
   "execution_count": 195,
   "metadata": {},
   "outputs": [
    {
     "data": {
      "text/html": [
       "<div>\n",
       "<style scoped>\n",
       "    .dataframe tbody tr th:only-of-type {\n",
       "        vertical-align: middle;\n",
       "    }\n",
       "\n",
       "    .dataframe tbody tr th {\n",
       "        vertical-align: top;\n",
       "    }\n",
       "\n",
       "    .dataframe thead th {\n",
       "        text-align: right;\n",
       "    }\n",
       "</style>\n",
       "<table border=\"1\" class=\"dataframe\">\n",
       "  <thead>\n",
       "    <tr style=\"text-align: right;\">\n",
       "      <th></th>\n",
       "      <th>КОГДА</th>\n",
       "      <th>НАЗВАНИЕ</th>\n",
       "      <th>СТРАНА КОРОЛЕВСТВА</th>\n",
       "    </tr>\n",
       "  </thead>\n",
       "  <tbody>\n",
       "    <tr>\n",
       "      <th>0</th>\n",
       "      <td>25 января</td>\n",
       "      <td>Ночь Бёрнса Burns Night</td>\n",
       "      <td>Шотландия</td>\n",
       "    </tr>\n",
       "    <tr>\n",
       "      <th>1</th>\n",
       "      <td>14 февраля</td>\n",
       "      <td>День Святого Валентина St. Valentine’s Day</td>\n",
       "      <td>Всё государство</td>\n",
       "    </tr>\n",
       "    <tr>\n",
       "      <th>2</th>\n",
       "      <td>1 марта</td>\n",
       "      <td>День Святого ДавидаSt. David’s Day</td>\n",
       "      <td>Уэльс</td>\n",
       "    </tr>\n",
       "    <tr>\n",
       "      <th>3</th>\n",
       "      <td>4е воскресенье Великого поста</td>\n",
       "      <td>День Матери Mother’s Day/Mothering Sunday</td>\n",
       "      <td>Всё государство</td>\n",
       "    </tr>\n",
       "    <tr>\n",
       "      <th>4</th>\n",
       "      <td>1 апреля</td>\n",
       "      <td>День дурака Fool’s Day/April Fools Day</td>\n",
       "      <td>Всё государство</td>\n",
       "    </tr>\n",
       "    <tr>\n",
       "      <th>5</th>\n",
       "      <td>1 апреля</td>\n",
       "      <td>День дурака Fool’s Day/April Fools Day</td>\n",
       "      <td>Всё государство</td>\n",
       "    </tr>\n",
       "    <tr>\n",
       "      <th>6</th>\n",
       "      <td>23 апреля</td>\n",
       "      <td>День Святого Георгия St. George’s Day</td>\n",
       "      <td>Англия</td>\n",
       "    </tr>\n",
       "    <tr>\n",
       "      <th>7</th>\n",
       "      <td>1 мая</td>\n",
       "      <td>Белтан Beltane/Beltain</td>\n",
       "      <td>Шотландия, Ирландия</td>\n",
       "    </tr>\n",
       "    <tr>\n",
       "      <th>8</th>\n",
       "      <td>1я, 2я или 3я суббота Июня</td>\n",
       "      <td>День рождения Королевы Queen's Official Birthday</td>\n",
       "      <td>Всё государство</td>\n",
       "    </tr>\n",
       "    <tr>\n",
       "      <th>9</th>\n",
       "      <td>3е воскресенье июня</td>\n",
       "      <td>День отцаFather’s Day</td>\n",
       "      <td>Всё государство</td>\n",
       "    </tr>\n",
       "    <tr>\n",
       "      <th>10</th>\n",
       "      <td>1-8 августа</td>\n",
       "      <td>Айстедвод Eisteddfod</td>\n",
       "      <td>Уэльс</td>\n",
       "    </tr>\n",
       "    <tr>\n",
       "      <th>11</th>\n",
       "      <td>1-25 августа</td>\n",
       "      <td>Фестиваль «Фриндж» в ЭдинбургеEdinburgh Festiv...</td>\n",
       "      <td>Всё государство</td>\n",
       "    </tr>\n",
       "    <tr>\n",
       "      <th>12</th>\n",
       "      <td>Последние выходные августа</td>\n",
       "      <td>Карнавал в Ноттинг ХиллеNotting Hill Carnival</td>\n",
       "      <td>Всё государство</td>\n",
       "    </tr>\n",
       "    <tr>\n",
       "      <th>13</th>\n",
       "      <td>31 октября</td>\n",
       "      <td>ХэллоуинHalloween</td>\n",
       "      <td>Всё государство</td>\n",
       "    </tr>\n",
       "    <tr>\n",
       "      <th>14</th>\n",
       "      <td>5 ноября</td>\n",
       "      <td>Ночь костровBonfire’s Night</td>\n",
       "      <td>Всё государство</td>\n",
       "    </tr>\n",
       "    <tr>\n",
       "      <th>15</th>\n",
       "      <td>11 ноября</td>\n",
       "      <td>День памятиRemembrance Day</td>\n",
       "      <td>Всё государство</td>\n",
       "    </tr>\n",
       "    <tr>\n",
       "      <th>16</th>\n",
       "      <td>30 ноября</td>\n",
       "      <td>День Святого АндреяSt. Andrew’s Day</td>\n",
       "      <td>Шотландия</td>\n",
       "    </tr>\n",
       "    <tr>\n",
       "      <th>17</th>\n",
       "      <td>25 декабря</td>\n",
       "      <td>РождествоChristmas or Xmas</td>\n",
       "      <td>Всё государство</td>\n",
       "    </tr>\n",
       "    <tr>\n",
       "      <th>18</th>\n",
       "      <td>26 декабря</td>\n",
       "      <td>День подарковBoxing Day</td>\n",
       "      <td>Всё государство</td>\n",
       "    </tr>\n",
       "  </tbody>\n",
       "</table>\n",
       "</div>"
      ],
      "text/plain": [
       "                            КОГДА  \\\n",
       "0                       25 января   \n",
       "1                      14 февраля   \n",
       "2                         1 марта   \n",
       "3   4е воскресенье Великого поста   \n",
       "4                        1 апреля   \n",
       "5                        1 апреля   \n",
       "6                       23 апреля   \n",
       "7                           1 мая   \n",
       "8      1я, 2я или 3я суббота Июня   \n",
       "9             3е воскресенье июня   \n",
       "10                    1-8 августа   \n",
       "11                   1-25 августа   \n",
       "12     Последние выходные августа   \n",
       "13                     31 октября   \n",
       "14                       5 ноября   \n",
       "15                      11 ноября   \n",
       "16                      30 ноября   \n",
       "17                     25 декабря   \n",
       "18                     26 декабря   \n",
       "\n",
       "                                             НАЗВАНИЕ   СТРАНА КОРОЛЕВСТВА  \n",
       "0                             Ночь Бёрнса Burns Night            Шотландия  \n",
       "1          День Святого Валентина St. Valentine’s Day      Всё государство  \n",
       "2                  День Святого ДавидаSt. David’s Day                Уэльс  \n",
       "3           День Матери Mother’s Day/Mothering Sunday      Всё государство  \n",
       "4              День дурака Fool’s Day/April Fools Day      Всё государство  \n",
       "5              День дурака Fool’s Day/April Fools Day      Всё государство  \n",
       "6               День Святого Георгия St. George’s Day               Англия  \n",
       "7                              Белтан Beltane/Beltain  Шотландия, Ирландия  \n",
       "8    День рождения Королевы Queen's Official Birthday      Всё государство  \n",
       "9                               День отцаFather’s Day      Всё государство  \n",
       "10                               Айстедвод Eisteddfod                Уэльс  \n",
       "11  Фестиваль «Фриндж» в ЭдинбургеEdinburgh Festiv...      Всё государство  \n",
       "12      Карнавал в Ноттинг ХиллеNotting Hill Carnival      Всё государство  \n",
       "13                                  ХэллоуинHalloween      Всё государство  \n",
       "14                        Ночь костровBonfire’s Night      Всё государство  \n",
       "15                         День памятиRemembrance Day      Всё государство  \n",
       "16                День Святого АндреяSt. Andrew’s Day            Шотландия  \n",
       "17                         РождествоChristmas or Xmas      Всё государство  \n",
       "18                            День подарковBoxing Day      Всё государство  "
      ]
     },
     "execution_count": 195,
     "metadata": {},
     "output_type": "execute_result"
    }
   ],
   "source": [
    "#Посмотрим праздники, которые отмечают в Великобритании\n",
    "pd.read_html('https://www.englishdom.com/blog/nacionalnye-prazdniki-velikobritanii/')[1]"
   ]
  },
  {
   "cell_type": "markdown",
   "metadata": {},
   "source": [
    "Так как наш магазин специализируется на продаже подарков, логично предположить, что всплески продаж и увеличения среднего чека можно ожидать в месяцы, когда много национальных праздников. Из таблицы видно, что большое количество праздников приходится на конец октября и ноябрь, например такие как Хэллоуин и Ночь костров, а также в декабре главный праздник для всех католиров - Рождество. В это время в нашем магазине наблюдаются максимальные продажи и увеличенный средний чек."
   ]
  },
  {
   "cell_type": "code",
   "execution_count": 196,
   "metadata": {},
   "outputs": [
    {
     "data": {
      "text/plain": [
       "<AxesSubplot:ylabel='Frequency'>"
      ]
     },
     "execution_count": 196,
     "metadata": {},
     "output_type": "execute_result"
    },
    {
     "data": {
      "image/png": "[encoded data removed]",
      "text/plain": [
       "<Figure size 864x360 with 1 Axes>"
      ]
     },
     "metadata": {
      "needs_background": "light"
     },
     "output_type": "display_data"
    }
   ],
   "source": [
    "#df.groupby('CustomerID').count().sort_values('InvoiceNo')\n",
    "df.groupby('CustomerID').count().sort_values('InvoiceNo')['InvoiceNo'].plot(kind = 'hist')"
   ]
  },
  {
   "cell_type": "markdown",
   "metadata": {},
   "source": [
    "RFM Analysis"
   ]
  },
  {
   "cell_type": "markdown",
   "metadata": {},
   "source": [
    "RFM аббревиатура (англ. Recency Frequency Monetary — давность, частота, деньги) — сегментация клиентов в анализе сбыта по лояльности.\n",
    "\n",
    "Определяет три группы:\n",
    "\n",
    "Recency (давность) — давность сделки, чем меньше времени прошло с момента последней активности клиента, тем больше вероятность, что он повторит действие.\n",
    "Frequency (частота) — количество сделок, чем больше каких-либо действий совершил клиент, тем больше вероятность того, что он его повторит в будущем.\n",
    "Monetary (деньги) — сумма сделок, чем больше денег было потрачено, тем больше вероятность того, что он сделает заказ."
   ]
  },
  {
   "cell_type": "markdown",
   "metadata": {},
   "source": [
    "Чтобы рассчитать давность, нам нужно выбрать точку даты, с которой мы оцениваем, сколько дней назад была последняя покупка клиента."
   ]
  },
  {
   "cell_type": "code",
   "execution_count": 197,
   "metadata": {},
   "outputs": [
    {
     "data": {
      "text/html": [
       "<div>\n",
       "<style scoped>\n",
       "    .dataframe tbody tr th:only-of-type {\n",
       "        vertical-align: middle;\n",
       "    }\n",
       "\n",
       "    .dataframe tbody tr th {\n",
       "        vertical-align: top;\n",
       "    }\n",
       "\n",
       "    .dataframe thead th {\n",
       "        text-align: right;\n",
       "    }\n",
       "</style>\n",
       "<table border=\"1\" class=\"dataframe\">\n",
       "  <thead>\n",
       "    <tr style=\"text-align: right;\">\n",
       "      <th></th>\n",
       "      <th>InvoiceNo</th>\n",
       "      <th>StockCode</th>\n",
       "      <th>Description</th>\n",
       "      <th>Quantity</th>\n",
       "      <th>InvoiceDate</th>\n",
       "      <th>UnitPrice</th>\n",
       "      <th>CustomerID</th>\n",
       "      <th>Country</th>\n",
       "      <th>TotalSum</th>\n",
       "      <th>Month_Year</th>\n",
       "      <th>Date</th>\n",
       "    </tr>\n",
       "  </thead>\n",
       "  <tbody>\n",
       "    <tr>\n",
       "      <th>0</th>\n",
       "      <td>536365</td>\n",
       "      <td>85123A</td>\n",
       "      <td>WHITE HANGING HEART T-LIGHT HOLDER</td>\n",
       "      <td>6</td>\n",
       "      <td>2010-12-01 08:26:00</td>\n",
       "      <td>2.55</td>\n",
       "      <td>17850</td>\n",
       "      <td>United Kingdom</td>\n",
       "      <td>15.30</td>\n",
       "      <td>2010-12</td>\n",
       "      <td>2010-12-01</td>\n",
       "    </tr>\n",
       "    <tr>\n",
       "      <th>1</th>\n",
       "      <td>536365</td>\n",
       "      <td>71053</td>\n",
       "      <td>WHITE METAL LANTERN</td>\n",
       "      <td>6</td>\n",
       "      <td>2010-12-01 08:26:00</td>\n",
       "      <td>3.39</td>\n",
       "      <td>17850</td>\n",
       "      <td>United Kingdom</td>\n",
       "      <td>20.34</td>\n",
       "      <td>2010-12</td>\n",
       "      <td>2010-12-01</td>\n",
       "    </tr>\n",
       "    <tr>\n",
       "      <th>2</th>\n",
       "      <td>536365</td>\n",
       "      <td>84406B</td>\n",
       "      <td>CREAM CUPID HEARTS COAT HANGER</td>\n",
       "      <td>8</td>\n",
       "      <td>2010-12-01 08:26:00</td>\n",
       "      <td>2.75</td>\n",
       "      <td>17850</td>\n",
       "      <td>United Kingdom</td>\n",
       "      <td>22.00</td>\n",
       "      <td>2010-12</td>\n",
       "      <td>2010-12-01</td>\n",
       "    </tr>\n",
       "    <tr>\n",
       "      <th>3</th>\n",
       "      <td>536365</td>\n",
       "      <td>84029G</td>\n",
       "      <td>KNITTED UNION FLAG HOT WATER BOTTLE</td>\n",
       "      <td>6</td>\n",
       "      <td>2010-12-01 08:26:00</td>\n",
       "      <td>3.39</td>\n",
       "      <td>17850</td>\n",
       "      <td>United Kingdom</td>\n",
       "      <td>20.34</td>\n",
       "      <td>2010-12</td>\n",
       "      <td>2010-12-01</td>\n",
       "    </tr>\n",
       "    <tr>\n",
       "      <th>4</th>\n",
       "      <td>536365</td>\n",
       "      <td>84029E</td>\n",
       "      <td>RED WOOLLY HOTTIE WHITE HEART.</td>\n",
       "      <td>6</td>\n",
       "      <td>2010-12-01 08:26:00</td>\n",
       "      <td>3.39</td>\n",
       "      <td>17850</td>\n",
       "      <td>United Kingdom</td>\n",
       "      <td>20.34</td>\n",
       "      <td>2010-12</td>\n",
       "      <td>2010-12-01</td>\n",
       "    </tr>\n",
       "  </tbody>\n",
       "</table>\n",
       "</div>"
      ],
      "text/plain": [
       "  InvoiceNo StockCode                          Description  Quantity  \\\n",
       "0    536365    85123A   WHITE HANGING HEART T-LIGHT HOLDER         6   \n",
       "1    536365     71053                  WHITE METAL LANTERN         6   \n",
       "2    536365    84406B       CREAM CUPID HEARTS COAT HANGER         8   \n",
       "3    536365    84029G  KNITTED UNION FLAG HOT WATER BOTTLE         6   \n",
       "4    536365    84029E       RED WOOLLY HOTTIE WHITE HEART.         6   \n",
       "\n",
       "          InvoiceDate  UnitPrice  CustomerID         Country  TotalSum  \\\n",
       "0 2010-12-01 08:26:00       2.55       17850  United Kingdom     15.30   \n",
       "1 2010-12-01 08:26:00       3.39       17850  United Kingdom     20.34   \n",
       "2 2010-12-01 08:26:00       2.75       17850  United Kingdom     22.00   \n",
       "3 2010-12-01 08:26:00       3.39       17850  United Kingdom     20.34   \n",
       "4 2010-12-01 08:26:00       3.39       17850  United Kingdom     20.34   \n",
       "\n",
       "  Month_Year        Date  \n",
       "0    2010-12  2010-12-01  \n",
       "1    2010-12  2010-12-01  \n",
       "2    2010-12  2010-12-01  \n",
       "3    2010-12  2010-12-01  \n",
       "4    2010-12  2010-12-01  "
      ]
     },
     "execution_count": 197,
     "metadata": {},
     "output_type": "execute_result"
    }
   ],
   "source": [
    "df['Date'] = df['InvoiceDate'].apply(lambda x: x.date())\n",
    "df.head()"
   ]
  },
  {
   "cell_type": "code",
   "execution_count": 73,
   "metadata": {},
   "outputs": [
    {
     "data": {
      "text/html": [
       "<div>\n",
       "<style scoped>\n",
       "    .dataframe tbody tr th:only-of-type {\n",
       "        vertical-align: middle;\n",
       "    }\n",
       "\n",
       "    .dataframe tbody tr th {\n",
       "        vertical-align: top;\n",
       "    }\n",
       "\n",
       "    .dataframe thead th {\n",
       "        text-align: right;\n",
       "    }\n",
       "</style>\n",
       "<table border=\"1\" class=\"dataframe\">\n",
       "  <thead>\n",
       "    <tr style=\"text-align: right;\">\n",
       "      <th></th>\n",
       "      <th>CustomerID</th>\n",
       "      <th>LastPurchaseDate</th>\n",
       "    </tr>\n",
       "  </thead>\n",
       "  <tbody>\n",
       "    <tr>\n",
       "      <th>0</th>\n",
       "      <td>12346</td>\n",
       "      <td>2011-01-18</td>\n",
       "    </tr>\n",
       "    <tr>\n",
       "      <th>1</th>\n",
       "      <td>12347</td>\n",
       "      <td>2011-12-07</td>\n",
       "    </tr>\n",
       "    <tr>\n",
       "      <th>2</th>\n",
       "      <td>12348</td>\n",
       "      <td>2011-09-25</td>\n",
       "    </tr>\n",
       "    <tr>\n",
       "      <th>3</th>\n",
       "      <td>12349</td>\n",
       "      <td>2011-11-21</td>\n",
       "    </tr>\n",
       "    <tr>\n",
       "      <th>4</th>\n",
       "      <td>12350</td>\n",
       "      <td>2011-02-02</td>\n",
       "    </tr>\n",
       "  </tbody>\n",
       "</table>\n",
       "</div>"
      ],
      "text/plain": [
       "   CustomerID LastPurchaseDate\n",
       "0       12346       2011-01-18\n",
       "1       12347       2011-12-07\n",
       "2       12348       2011-09-25\n",
       "3       12349       2011-11-21\n",
       "4       12350       2011-02-02"
      ]
     },
     "execution_count": 73,
     "metadata": {},
     "output_type": "execute_result"
    }
   ],
   "source": [
    "recency_df = df.groupby(by='CustomerID',as_index=False)['Date'].max()\n",
    "recency_df.columns = ['CustomerID','LastPurchaseDate']\n",
    "recency_df.head(5)"
   ]
  },
  {
   "cell_type": "code",
   "execution_count": 91,
   "metadata": {},
   "outputs": [],
   "source": [
    "import datetime\n",
    "now = datetime.date(2021, 12, 10)"
   ]
  },
  {
   "cell_type": "code",
   "execution_count": 92,
   "metadata": {},
   "outputs": [
    {
     "data": {
      "text/html": [
       "<div>\n",
       "<style scoped>\n",
       "    .dataframe tbody tr th:only-of-type {\n",
       "        vertical-align: middle;\n",
       "    }\n",
       "\n",
       "    .dataframe tbody tr th {\n",
       "        vertical-align: top;\n",
       "    }\n",
       "\n",
       "    .dataframe thead th {\n",
       "        text-align: right;\n",
       "    }\n",
       "</style>\n",
       "<table border=\"1\" class=\"dataframe\">\n",
       "  <thead>\n",
       "    <tr style=\"text-align: right;\">\n",
       "      <th></th>\n",
       "      <th>CustomerID</th>\n",
       "      <th>Recency</th>\n",
       "    </tr>\n",
       "  </thead>\n",
       "  <tbody>\n",
       "    <tr>\n",
       "      <th>0</th>\n",
       "      <td>12346</td>\n",
       "      <td>3979</td>\n",
       "    </tr>\n",
       "    <tr>\n",
       "      <th>1</th>\n",
       "      <td>12347</td>\n",
       "      <td>3656</td>\n",
       "    </tr>\n",
       "    <tr>\n",
       "      <th>2</th>\n",
       "      <td>12348</td>\n",
       "      <td>3729</td>\n",
       "    </tr>\n",
       "    <tr>\n",
       "      <th>3</th>\n",
       "      <td>12349</td>\n",
       "      <td>3672</td>\n",
       "    </tr>\n",
       "    <tr>\n",
       "      <th>4</th>\n",
       "      <td>12350</td>\n",
       "      <td>3964</td>\n",
       "    </tr>\n",
       "  </tbody>\n",
       "</table>\n",
       "</div>"
      ],
      "text/plain": [
       "   CustomerID  Recency\n",
       "0       12346     3979\n",
       "1       12347     3656\n",
       "2       12348     3729\n",
       "3       12349     3672\n",
       "4       12350     3964"
      ]
     },
     "execution_count": 92,
     "metadata": {},
     "output_type": "execute_result"
    }
   ],
   "source": [
    "recency_df['Recency'] = recency_df['LastPurchaseDate'].apply(lambda x: (now - x).days)\n",
    "recency_df.drop('LastPurchaseDate',axis = 1,inplace=True)\n",
    "recency_df.head(5)"
   ]
  },
  {
   "cell_type": "markdown",
   "metadata": {},
   "source": [
    "Частота помогает нам узнать, сколько раз клиент покупал у нас. Для этого нам нужно проверить, сколько счетов зарегистрировано одним и тем же клиентом."
   ]
  },
  {
   "cell_type": "code",
   "execution_count": 94,
   "metadata": {},
   "outputs": [
    {
     "data": {
      "text/html": [
       "<div>\n",
       "<style scoped>\n",
       "    .dataframe tbody tr th:only-of-type {\n",
       "        vertical-align: middle;\n",
       "    }\n",
       "\n",
       "    .dataframe tbody tr th {\n",
       "        vertical-align: top;\n",
       "    }\n",
       "\n",
       "    .dataframe thead th {\n",
       "        text-align: right;\n",
       "    }\n",
       "</style>\n",
       "<table border=\"1\" class=\"dataframe\">\n",
       "  <thead>\n",
       "    <tr style=\"text-align: right;\">\n",
       "      <th></th>\n",
       "      <th>CustomerID</th>\n",
       "      <th>Frequency</th>\n",
       "    </tr>\n",
       "  </thead>\n",
       "  <tbody>\n",
       "    <tr>\n",
       "      <th>0</th>\n",
       "      <td>12346</td>\n",
       "      <td>2</td>\n",
       "    </tr>\n",
       "    <tr>\n",
       "      <th>1</th>\n",
       "      <td>12347</td>\n",
       "      <td>182</td>\n",
       "    </tr>\n",
       "    <tr>\n",
       "      <th>2</th>\n",
       "      <td>12348</td>\n",
       "      <td>31</td>\n",
       "    </tr>\n",
       "    <tr>\n",
       "      <th>3</th>\n",
       "      <td>12349</td>\n",
       "      <td>73</td>\n",
       "    </tr>\n",
       "    <tr>\n",
       "      <th>4</th>\n",
       "      <td>12350</td>\n",
       "      <td>17</td>\n",
       "    </tr>\n",
       "  </tbody>\n",
       "</table>\n",
       "</div>"
      ],
      "text/plain": [
       "   CustomerID  Frequency\n",
       "0       12346          2\n",
       "1       12347        182\n",
       "2       12348         31\n",
       "3       12349         73\n",
       "4       12350         17"
      ]
     },
     "execution_count": 94,
     "metadata": {},
     "output_type": "execute_result"
    }
   ],
   "source": [
    "temp = df.copy()\n",
    "frequency_df = temp.groupby(by=['CustomerID'], as_index=False)['InvoiceNo'].count()\n",
    "frequency_df.columns = ['CustomerID','Frequency']\n",
    "frequency_df.head()"
   ]
  },
  {
   "cell_type": "markdown",
   "metadata": {},
   "source": [
    "Monetary (деньги) отвечает на вопрос: сколько денег клиент потратил за это время?\n",
    "Посчитаем данный показатель:"
   ]
  },
  {
   "cell_type": "code",
   "execution_count": 98,
   "metadata": {},
   "outputs": [
    {
     "data": {
      "text/html": [
       "<div>\n",
       "<style scoped>\n",
       "    .dataframe tbody tr th:only-of-type {\n",
       "        vertical-align: middle;\n",
       "    }\n",
       "\n",
       "    .dataframe tbody tr th {\n",
       "        vertical-align: top;\n",
       "    }\n",
       "\n",
       "    .dataframe thead th {\n",
       "        text-align: right;\n",
       "    }\n",
       "</style>\n",
       "<table border=\"1\" class=\"dataframe\">\n",
       "  <thead>\n",
       "    <tr style=\"text-align: right;\">\n",
       "      <th></th>\n",
       "      <th>CustomerID</th>\n",
       "      <th>TotalQuanity</th>\n",
       "    </tr>\n",
       "  </thead>\n",
       "  <tbody>\n",
       "    <tr>\n",
       "      <th>0</th>\n",
       "      <td>12346</td>\n",
       "      <td>0.00</td>\n",
       "    </tr>\n",
       "    <tr>\n",
       "      <th>1</th>\n",
       "      <td>12347</td>\n",
       "      <td>4310.00</td>\n",
       "    </tr>\n",
       "    <tr>\n",
       "      <th>2</th>\n",
       "      <td>12348</td>\n",
       "      <td>1797.24</td>\n",
       "    </tr>\n",
       "    <tr>\n",
       "      <th>3</th>\n",
       "      <td>12349</td>\n",
       "      <td>1757.55</td>\n",
       "    </tr>\n",
       "    <tr>\n",
       "      <th>4</th>\n",
       "      <td>12350</td>\n",
       "      <td>334.40</td>\n",
       "    </tr>\n",
       "  </tbody>\n",
       "</table>\n",
       "</div>"
      ],
      "text/plain": [
       "   CustomerID  TotalQuanity\n",
       "0       12346          0.00\n",
       "1       12347       4310.00\n",
       "2       12348       1797.24\n",
       "3       12349       1757.55\n",
       "4       12350        334.40"
      ]
     },
     "execution_count": 98,
     "metadata": {},
     "output_type": "execute_result"
    }
   ],
   "source": [
    "monetary_df = df.groupby(by = 'CustomerID',as_index=False).agg({'TotalSum':'sum'})\n",
    "monetary_df.columns = ['CustomerID','TotalQuanity']\n",
    "monetary_df.head(5)"
   ]
  },
  {
   "cell_type": "code",
   "execution_count": 100,
   "metadata": {},
   "outputs": [
    {
     "data": {
      "text/html": [
       "<div>\n",
       "<style scoped>\n",
       "    .dataframe tbody tr th:only-of-type {\n",
       "        vertical-align: middle;\n",
       "    }\n",
       "\n",
       "    .dataframe tbody tr th {\n",
       "        vertical-align: top;\n",
       "    }\n",
       "\n",
       "    .dataframe thead th {\n",
       "        text-align: right;\n",
       "    }\n",
       "</style>\n",
       "<table border=\"1\" class=\"dataframe\">\n",
       "  <thead>\n",
       "    <tr style=\"text-align: right;\">\n",
       "      <th></th>\n",
       "      <th>Recency</th>\n",
       "      <th>Frequency</th>\n",
       "      <th>TotalQuanity</th>\n",
       "    </tr>\n",
       "    <tr>\n",
       "      <th>CustomerID</th>\n",
       "      <th></th>\n",
       "      <th></th>\n",
       "      <th></th>\n",
       "    </tr>\n",
       "  </thead>\n",
       "  <tbody>\n",
       "    <tr>\n",
       "      <th>12346</th>\n",
       "      <td>3979</td>\n",
       "      <td>2</td>\n",
       "      <td>0.00</td>\n",
       "    </tr>\n",
       "    <tr>\n",
       "      <th>12347</th>\n",
       "      <td>3656</td>\n",
       "      <td>182</td>\n",
       "      <td>4310.00</td>\n",
       "    </tr>\n",
       "    <tr>\n",
       "      <th>12348</th>\n",
       "      <td>3729</td>\n",
       "      <td>31</td>\n",
       "      <td>1797.24</td>\n",
       "    </tr>\n",
       "    <tr>\n",
       "      <th>12349</th>\n",
       "      <td>3672</td>\n",
       "      <td>73</td>\n",
       "      <td>1757.55</td>\n",
       "    </tr>\n",
       "    <tr>\n",
       "      <th>12350</th>\n",
       "      <td>3964</td>\n",
       "      <td>17</td>\n",
       "      <td>334.40</td>\n",
       "    </tr>\n",
       "  </tbody>\n",
       "</table>\n",
       "</div>"
      ],
      "text/plain": [
       "            Recency  Frequency  TotalQuanity\n",
       "CustomerID                                  \n",
       "12346          3979          2          0.00\n",
       "12347          3656        182       4310.00\n",
       "12348          3729         31       1797.24\n",
       "12349          3672         73       1757.55\n",
       "12350          3964         17        334.40"
      ]
     },
     "execution_count": 100,
     "metadata": {},
     "output_type": "execute_result"
    }
   ],
   "source": [
    "rfm_df = recency_df.merge(frequency_df,on='CustomerID').merge(monetary_df,on='CustomerID')\n",
    "rfm_df.set_index('CustomerID',inplace=True)\n",
    "rfm_df.head(5)"
   ]
  },
  {
   "cell_type": "markdown",
   "metadata": {},
   "source": [
    "Далее посмотрим есть ли корелляция между тремя признаками."
   ]
  },
  {
   "cell_type": "code",
   "execution_count": 104,
   "metadata": {},
   "outputs": [
    {
     "name": "stdout",
     "output_type": "stream",
     "text": [
      "               Recency  Frequency  TotalQuanity\n",
      "Recency       1.000000  -0.207375     -0.131813\n",
      "Frequency    -0.207375   1.000000      0.449659\n",
      "TotalQuanity -0.131813   0.449659      1.000000\n"
     ]
    },
    {
     "data": {
      "text/plain": [
       "<AxesSubplot:>"
      ]
     },
     "execution_count": 104,
     "metadata": {},
     "output_type": "execute_result"
    },
    {
     "data": {
      "image/png": "[encoded data removed]",
      "text/plain": [
       "<Figure size 864x360 with 2 Axes>"
      ]
     },
     "metadata": {
      "needs_background": "light"
     },
     "output_type": "display_data"
    }
   ],
   "source": [
    "#Построим тепловую карту и выведем коэффициенты корелляции\n",
    "print(rfm_df.corr())\n",
    "sns.heatmap(rfm_df.corr(),cmap=\"YlGnBu\",annot=True)"
   ]
  },
  {
   "cell_type": "code",
   "execution_count": 106,
   "metadata": {},
   "outputs": [
    {
     "data": {
      "text/plain": [
       "<seaborn.axisgrid.PairGrid at 0x25f3ac09a60>"
      ]
     },
     "execution_count": 106,
     "metadata": {},
     "output_type": "execute_result"
    },
    {
     "data": {
      "image/png": "[encoded data removed]",
      "text/plain": [
       "<Figure size 540x540 with 9 Axes>"
      ]
     },
     "metadata": {
      "needs_background": "light"
     },
     "output_type": "display_data"
    }
   ],
   "source": [
    "#Построим точечную диаграмму\n",
    "sns.pairplot(rfm_df, diag_kind=\"scatter\")"
   ]
  },
  {
   "cell_type": "markdown",
   "metadata": {},
   "source": [
    "Как можно видеть из построенных визуализаций между показателями нет сильной корелляции.\n",
    "Только между показателем \"частота покупки\" (Frequency) и \"общая сумма потраченных за период денег\" (Monetary) есть прямая корелляция умереной силы. "
   ]
  },
  {
   "cell_type": "markdown",
   "metadata": {},
   "source": [
    "4. Построение модели предсказания продаж"
   ]
  },
  {
   "cell_type": "code",
   "execution_count": 198,
   "metadata": {},
   "outputs": [],
   "source": [
    "from sklearn.model_selection import train_test_split"
   ]
  },
  {
   "cell_type": "code",
   "execution_count": 199,
   "metadata": {},
   "outputs": [
    {
     "data": {
      "text/plain": [
       "Index(['InvoiceNo', 'StockCode', 'Description', 'Quantity', 'InvoiceDate',\n",
       "       'UnitPrice', 'CustomerID', 'Country', 'TotalSum', 'Month_Year', 'Date'],\n",
       "      dtype='object')"
      ]
     },
     "execution_count": 199,
     "metadata": {},
     "output_type": "execute_result"
    }
   ],
   "source": [
    "df.columns"
   ]
  },
  {
   "cell_type": "code",
   "execution_count": 200,
   "metadata": {},
   "outputs": [],
   "source": [
    "X = df[['Quantity', 'UnitPrice', 'CustomerID']]\n",
    "y = df['TotalSum']"
   ]
  },
  {
   "cell_type": "code",
   "execution_count": 201,
   "metadata": {},
   "outputs": [
    {
     "data": {
      "text/html": [
       "<div>\n",
       "<style scoped>\n",
       "    .dataframe tbody tr th:only-of-type {\n",
       "        vertical-align: middle;\n",
       "    }\n",
       "\n",
       "    .dataframe tbody tr th {\n",
       "        vertical-align: top;\n",
       "    }\n",
       "\n",
       "    .dataframe thead th {\n",
       "        text-align: right;\n",
       "    }\n",
       "</style>\n",
       "<table border=\"1\" class=\"dataframe\">\n",
       "  <thead>\n",
       "    <tr style=\"text-align: right;\">\n",
       "      <th></th>\n",
       "      <th>Quantity</th>\n",
       "      <th>UnitPrice</th>\n",
       "      <th>CustomerID</th>\n",
       "    </tr>\n",
       "  </thead>\n",
       "  <tbody>\n",
       "    <tr>\n",
       "      <th>0</th>\n",
       "      <td>6</td>\n",
       "      <td>2.55</td>\n",
       "      <td>17850</td>\n",
       "    </tr>\n",
       "    <tr>\n",
       "      <th>1</th>\n",
       "      <td>6</td>\n",
       "      <td>3.39</td>\n",
       "      <td>17850</td>\n",
       "    </tr>\n",
       "    <tr>\n",
       "      <th>2</th>\n",
       "      <td>8</td>\n",
       "      <td>2.75</td>\n",
       "      <td>17850</td>\n",
       "    </tr>\n",
       "    <tr>\n",
       "      <th>3</th>\n",
       "      <td>6</td>\n",
       "      <td>3.39</td>\n",
       "      <td>17850</td>\n",
       "    </tr>\n",
       "    <tr>\n",
       "      <th>4</th>\n",
       "      <td>6</td>\n",
       "      <td>3.39</td>\n",
       "      <td>17850</td>\n",
       "    </tr>\n",
       "    <tr>\n",
       "      <th>...</th>\n",
       "      <td>...</td>\n",
       "      <td>...</td>\n",
       "      <td>...</td>\n",
       "    </tr>\n",
       "    <tr>\n",
       "      <th>541904</th>\n",
       "      <td>12</td>\n",
       "      <td>0.85</td>\n",
       "      <td>12680</td>\n",
       "    </tr>\n",
       "    <tr>\n",
       "      <th>541905</th>\n",
       "      <td>6</td>\n",
       "      <td>2.10</td>\n",
       "      <td>12680</td>\n",
       "    </tr>\n",
       "    <tr>\n",
       "      <th>541906</th>\n",
       "      <td>4</td>\n",
       "      <td>4.15</td>\n",
       "      <td>12680</td>\n",
       "    </tr>\n",
       "    <tr>\n",
       "      <th>541907</th>\n",
       "      <td>4</td>\n",
       "      <td>4.15</td>\n",
       "      <td>12680</td>\n",
       "    </tr>\n",
       "    <tr>\n",
       "      <th>541908</th>\n",
       "      <td>3</td>\n",
       "      <td>4.95</td>\n",
       "      <td>12680</td>\n",
       "    </tr>\n",
       "  </tbody>\n",
       "</table>\n",
       "<p>401604 rows × 3 columns</p>\n",
       "</div>"
      ],
      "text/plain": [
       "        Quantity  UnitPrice  CustomerID\n",
       "0              6       2.55       17850\n",
       "1              6       3.39       17850\n",
       "2              8       2.75       17850\n",
       "3              6       3.39       17850\n",
       "4              6       3.39       17850\n",
       "...          ...        ...         ...\n",
       "541904        12       0.85       12680\n",
       "541905         6       2.10       12680\n",
       "541906         4       4.15       12680\n",
       "541907         4       4.15       12680\n",
       "541908         3       4.95       12680\n",
       "\n",
       "[401604 rows x 3 columns]"
      ]
     },
     "execution_count": 201,
     "metadata": {},
     "output_type": "execute_result"
    }
   ],
   "source": [
    "X"
   ]
  },
  {
   "cell_type": "code",
   "execution_count": 202,
   "metadata": {},
   "outputs": [
    {
     "data": {
      "text/plain": [
       "0         15.30\n",
       "1         20.34\n",
       "2         22.00\n",
       "3         20.34\n",
       "4         20.34\n",
       "          ...  \n",
       "541904    10.20\n",
       "541905    12.60\n",
       "541906    16.60\n",
       "541907    16.60\n",
       "541908    14.85\n",
       "Name: TotalSum, Length: 401604, dtype: float64"
      ]
     },
     "execution_count": 202,
     "metadata": {},
     "output_type": "execute_result"
    }
   ],
   "source": [
    "y"
   ]
  },
  {
   "cell_type": "code",
   "execution_count": 203,
   "metadata": {},
   "outputs": [],
   "source": [
    "# Разделяем данные на часть для обучения и часть для проверки\n",
    "X_train, X_test, y_train, y_test = train_test_split(X, y, test_size=0.2)"
   ]
  },
  {
   "cell_type": "code",
   "execution_count": 204,
   "metadata": {},
   "outputs": [],
   "source": [
    "#Для предсказания продаж будем использовать линейную регрессию\n",
    "from sklearn.linear_model import LinearRegression"
   ]
  },
  {
   "cell_type": "code",
   "execution_count": 205,
   "metadata": {},
   "outputs": [],
   "source": [
    "lr = LinearRegression() "
   ]
  },
  {
   "cell_type": "code",
   "execution_count": 206,
   "metadata": {},
   "outputs": [
    {
     "data": {
      "text/plain": [
       "LinearRegression()"
      ]
     },
     "execution_count": 206,
     "metadata": {},
     "output_type": "execute_result"
    }
   ],
   "source": [
    "#Обучим модель данных\n",
    "lr.fit(X_train, y_train)"
   ]
  },
  {
   "cell_type": "code",
   "execution_count": 207,
   "metadata": {},
   "outputs": [],
   "source": [
    "# Оцениваем качество модели при помощи MSE\n",
    "from sklearn.metrics import mean_squared_error"
   ]
  },
  {
   "cell_type": "code",
   "execution_count": 208,
   "metadata": {},
   "outputs": [
    {
     "data": {
      "text/plain": [
       "48242.202748542484"
      ]
     },
     "execution_count": 208,
     "metadata": {},
     "output_type": "execute_result"
    }
   ],
   "source": [
    "mean_squared_error(y_test, lr.predict(X_test))"
   ]
  },
  {
   "cell_type": "code",
   "execution_count": 209,
   "metadata": {},
   "outputs": [
    {
     "data": {
      "text/plain": [
       "23281.058988556535"
      ]
     },
     "execution_count": 209,
     "metadata": {},
     "output_type": "execute_result"
    }
   ],
   "source": [
    "mean_squared_error(y_train, lr.predict(X_train))"
   ]
  }
 ],
 "metadata": {
  "kernelspec": {
   "display_name": "Python 3",
   "language": "python",
   "name": "python3"
  },
  "language_info": {
   "codemirror_mode": {
    "name": "ipython",
    "version": 3
   },
   "file_extension": ".py",
   "mimetype": "text/x-python",
   "name": "python",
   "nbconvert_exporter": "python",
   "pygments_lexer": "ipython3",
   "version": "3.8.5"
  }
 },
 "nbformat": 4,
 "nbformat_minor": 4
}
